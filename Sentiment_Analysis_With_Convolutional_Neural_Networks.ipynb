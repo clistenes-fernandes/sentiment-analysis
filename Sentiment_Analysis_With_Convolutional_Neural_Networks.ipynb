{
  "nbformat": 4,
  "nbformat_minor": 0,
  "metadata": {
    "colab": {
      "name": "Sentiment Analysis With Convolutional Neural Networks.ipynb",
      "provenance": [],
      "collapsed_sections": [],
      "authorship_tag": "ABX9TyPlMOHwvunvMkOwwdTbvslk"
    },
    "kernelspec": {
      "name": "python3",
      "display_name": "Python 3"
    },
    "accelerator": "GPU"
  },
  "cells": [
    {
      "cell_type": "markdown",
      "metadata": {
        "id": "p3b97Kj4gm4N",
        "colab_type": "text"
      },
      "source": [
        "# Section 1: Importing The Libraries"
      ]
    },
    {
      "cell_type": "code",
      "metadata": {
        "id": "tNUwgyMIgwLL",
        "colab_type": "code",
        "colab": {}
      },
      "source": [
        "import numpy as np\n",
        "import math\n",
        "import re # regular expression\n",
        "import pandas as pd\n",
        "from bs4 import BeautifulSoup #Text pre-processing\n",
        "from google.colab import drive\n",
        "import zipfile\n",
        "import seaborn as sns #Data visualization\n",
        "import string\n",
        "import spacy as sp\n",
        "import random\n",
        "import matplotlib.pyplot as plt"
      ],
      "execution_count": 0,
      "outputs": []
    },
    {
      "cell_type": "code",
      "metadata": {
        "id": "0AKr090GhRRU",
        "colab_type": "code",
        "outputId": "cf80cad2-f8d9-4e01-a0da-688c8c622860",
        "colab": {
          "base_uri": "https://localhost:8080/",
          "height": 51
        }
      },
      "source": [
        "%tensorflow_version 2.x\n",
        "import tensorflow as tf\n",
        "tf.__version__"
      ],
      "execution_count": 0,
      "outputs": [
        {
          "output_type": "stream",
          "text": [
            "TensorFlow 2.x selected.\n"
          ],
          "name": "stdout"
        },
        {
          "output_type": "execute_result",
          "data": {
            "text/plain": [
              "'2.1.0'"
            ]
          },
          "metadata": {
            "tags": []
          },
          "execution_count": 2
        }
      ]
    },
    {
      "cell_type": "code",
      "metadata": {
        "id": "TTryX2s9hVU4",
        "colab_type": "code",
        "colab": {}
      },
      "source": [
        "from tensorflow.keras import layers\n",
        "import tensorflow_datasets as tfds"
      ],
      "execution_count": 0,
      "outputs": []
    },
    {
      "cell_type": "markdown",
      "metadata": {
        "id": "WYVMpCzTUNf6",
        "colab_type": "text"
      },
      "source": [
        "# Section 2: Pre processing"
      ]
    },
    {
      "cell_type": "markdown",
      "metadata": {
        "id": "ei5ZjA1YViL9",
        "colab_type": "text"
      },
      "source": [
        "###Dataset upload"
      ]
    },
    {
      "cell_type": "code",
      "metadata": {
        "id": "YBj4LwqnU8r7",
        "colab_type": "code",
        "outputId": "7c8d66b8-5ee9-4f8f-be5d-2c2fe093b88b",
        "colab": {
          "base_uri": "https://localhost:8080/",
          "height": 34
        }
      },
      "source": [
        "#get the database from Drive\n",
        "drive.mount('/content/drive')"
      ],
      "execution_count": 0,
      "outputs": [
        {
          "output_type": "stream",
          "text": [
            "Drive already mounted at /content/drive; to attempt to forcibly remount, call drive.mount(\"/content/drive\", force_remount=True).\n"
          ],
          "name": "stdout"
        }
      ]
    },
    {
      "cell_type": "code",
      "metadata": {
        "id": "VsW30KjXXBKP",
        "colab_type": "code",
        "colab": {}
      },
      "source": [
        "#Extract the file in the root folder of Colab\n",
        "path = '/content/drive/My Drive/trainingandtestdata.zip'\n",
        "zip_object = zipfile.ZipFile(file=path, mode='r')\n",
        "zip_object.extractall('./')\n",
        "zip_object.close()"
      ],
      "execution_count": 0,
      "outputs": []
    },
    {
      "cell_type": "code",
      "metadata": {
        "id": "CiR6g0rzYscc",
        "colab_type": "code",
        "colab": {}
      },
      "source": [
        "cols = ['sentiment', 'id', 'date', 'query', 'user', 'text']"
      ],
      "execution_count": 0,
      "outputs": []
    },
    {
      "cell_type": "code",
      "metadata": {
        "id": "w5kI5gH3ZW70",
        "colab_type": "code",
        "colab": {}
      },
      "source": [
        "train_data = pd.read_csv('/content/trainingandtestdata/train.csv', header=None,\n",
        "                         names=cols, engine='python', encoding='latin1')"
      ],
      "execution_count": 0,
      "outputs": []
    },
    {
      "cell_type": "code",
      "metadata": {
        "id": "osnokZ3kZvSb",
        "colab_type": "code",
        "outputId": "27884d5a-e9c8-41bc-8c8b-e0768ac252c6",
        "colab": {
          "base_uri": "https://localhost:8080/",
          "height": 34
        }
      },
      "source": [
        "train_data.shape"
      ],
      "execution_count": 0,
      "outputs": [
        {
          "output_type": "execute_result",
          "data": {
            "text/plain": [
              "(1600000, 6)"
            ]
          },
          "metadata": {
            "tags": []
          },
          "execution_count": 8
        }
      ]
    },
    {
      "cell_type": "code",
      "metadata": {
        "id": "fBcu6MC3Z0VN",
        "colab_type": "code",
        "outputId": "adad90c5-82ba-4662-98c0-8ebbe57983d6",
        "colab": {
          "base_uri": "https://localhost:8080/",
          "height": 204
        }
      },
      "source": [
        "train_data.head()"
      ],
      "execution_count": 0,
      "outputs": [
        {
          "output_type": "execute_result",
          "data": {
            "text/html": [
              "<div>\n",
              "<style scoped>\n",
              "    .dataframe tbody tr th:only-of-type {\n",
              "        vertical-align: middle;\n",
              "    }\n",
              "\n",
              "    .dataframe tbody tr th {\n",
              "        vertical-align: top;\n",
              "    }\n",
              "\n",
              "    .dataframe thead th {\n",
              "        text-align: right;\n",
              "    }\n",
              "</style>\n",
              "<table border=\"1\" class=\"dataframe\">\n",
              "  <thead>\n",
              "    <tr style=\"text-align: right;\">\n",
              "      <th></th>\n",
              "      <th>sentiment</th>\n",
              "      <th>id</th>\n",
              "      <th>date</th>\n",
              "      <th>query</th>\n",
              "      <th>user</th>\n",
              "      <th>text</th>\n",
              "    </tr>\n",
              "  </thead>\n",
              "  <tbody>\n",
              "    <tr>\n",
              "      <th>0</th>\n",
              "      <td>0</td>\n",
              "      <td>1467810369</td>\n",
              "      <td>Mon Apr 06 22:19:45 PDT 2009</td>\n",
              "      <td>NO_QUERY</td>\n",
              "      <td>_TheSpecialOne_</td>\n",
              "      <td>@switchfoot http://twitpic.com/2y1zl - Awww, t...</td>\n",
              "    </tr>\n",
              "    <tr>\n",
              "      <th>1</th>\n",
              "      <td>0</td>\n",
              "      <td>1467810672</td>\n",
              "      <td>Mon Apr 06 22:19:49 PDT 2009</td>\n",
              "      <td>NO_QUERY</td>\n",
              "      <td>scotthamilton</td>\n",
              "      <td>is upset that he can't update his Facebook by ...</td>\n",
              "    </tr>\n",
              "    <tr>\n",
              "      <th>2</th>\n",
              "      <td>0</td>\n",
              "      <td>1467810917</td>\n",
              "      <td>Mon Apr 06 22:19:53 PDT 2009</td>\n",
              "      <td>NO_QUERY</td>\n",
              "      <td>mattycus</td>\n",
              "      <td>@Kenichan I dived many times for the ball. Man...</td>\n",
              "    </tr>\n",
              "    <tr>\n",
              "      <th>3</th>\n",
              "      <td>0</td>\n",
              "      <td>1467811184</td>\n",
              "      <td>Mon Apr 06 22:19:57 PDT 2009</td>\n",
              "      <td>NO_QUERY</td>\n",
              "      <td>ElleCTF</td>\n",
              "      <td>my whole body feels itchy and like its on fire</td>\n",
              "    </tr>\n",
              "    <tr>\n",
              "      <th>4</th>\n",
              "      <td>0</td>\n",
              "      <td>1467811193</td>\n",
              "      <td>Mon Apr 06 22:19:57 PDT 2009</td>\n",
              "      <td>NO_QUERY</td>\n",
              "      <td>Karoli</td>\n",
              "      <td>@nationwideclass no, it's not behaving at all....</td>\n",
              "    </tr>\n",
              "  </tbody>\n",
              "</table>\n",
              "</div>"
            ],
            "text/plain": [
              "   sentiment  ...                                               text\n",
              "0          0  ...  @switchfoot http://twitpic.com/2y1zl - Awww, t...\n",
              "1          0  ...  is upset that he can't update his Facebook by ...\n",
              "2          0  ...  @Kenichan I dived many times for the ball. Man...\n",
              "3          0  ...    my whole body feels itchy and like its on fire \n",
              "4          0  ...  @nationwideclass no, it's not behaving at all....\n",
              "\n",
              "[5 rows x 6 columns]"
            ]
          },
          "metadata": {
            "tags": []
          },
          "execution_count": 9
        }
      ]
    },
    {
      "cell_type": "code",
      "metadata": {
        "id": "ECQt9sx3Z5ze",
        "colab_type": "code",
        "outputId": "fc22f0e4-7ce3-4ba7-e449-5733ef28b218",
        "colab": {
          "base_uri": "https://localhost:8080/",
          "height": 34
        }
      },
      "source": [
        "train_data.sentiment.unique()"
      ],
      "execution_count": 0,
      "outputs": [
        {
          "output_type": "execute_result",
          "data": {
            "text/plain": [
              "array([0, 4])"
            ]
          },
          "metadata": {
            "tags": []
          },
          "execution_count": 10
        }
      ]
    },
    {
      "cell_type": "code",
      "metadata": {
        "id": "mrVd3Lp9aSoX",
        "colab_type": "code",
        "outputId": "0c08cf5e-94d3-4b22-c22f-fbadde6b7670",
        "colab": {
          "base_uri": "https://localhost:8080/",
          "height": 296
        }
      },
      "source": [
        "sns.countplot(train_data.sentiment)"
      ],
      "execution_count": 0,
      "outputs": [
        {
          "output_type": "execute_result",
          "data": {
            "text/plain": [
              "<matplotlib.axes._subplots.AxesSubplot at 0x7f94ae003550>"
            ]
          },
          "metadata": {
            "tags": []
          },
          "execution_count": 11
        },
        {
          "output_type": "display_data",
          "data": {
            "image/png": "[encoded data removed]",
            "text/plain": [
              "<Figure size 432x288 with 1 Axes>"
            ]
          },
          "metadata": {
            "tags": []
          }
        }
      ]
    },
    {
      "cell_type": "code",
      "metadata": {
        "id": "OJwWATEAaXef",
        "colab_type": "code",
        "colab": {}
      },
      "source": [
        "test_data = pd.read_csv('/content/trainingandtestdata/test.csv',\n",
        "                        header=None,\n",
        "                        names=cols,\n",
        "                        engine='python',\n",
        "                        encoding='latin1')"
      ],
      "execution_count": 0,
      "outputs": []
    },
    {
      "cell_type": "code",
      "metadata": {
        "id": "0Dezxu7Qd_hs",
        "colab_type": "code",
        "outputId": "04efea3b-0c16-4069-9f56-39e77b50e226",
        "colab": {
          "base_uri": "https://localhost:8080/",
          "height": 34
        }
      },
      "source": [
        "test_data.shape"
      ],
      "execution_count": 0,
      "outputs": [
        {
          "output_type": "execute_result",
          "data": {
            "text/plain": [
              "(498, 6)"
            ]
          },
          "metadata": {
            "tags": []
          },
          "execution_count": 13
        }
      ]
    },
    {
      "cell_type": "code",
      "metadata": {
        "id": "20AJrdHveBYJ",
        "colab_type": "code",
        "outputId": "7604c4c1-579d-4d11-9e74-b836aaf01e43",
        "colab": {
          "base_uri": "https://localhost:8080/",
          "height": 204
        }
      },
      "source": [
        "test_data.head()"
      ],
      "execution_count": 0,
      "outputs": [
        {
          "output_type": "execute_result",
          "data": {
            "text/html": [
              "<div>\n",
              "<style scoped>\n",
              "    .dataframe tbody tr th:only-of-type {\n",
              "        vertical-align: middle;\n",
              "    }\n",
              "\n",
              "    .dataframe tbody tr th {\n",
              "        vertical-align: top;\n",
              "    }\n",
              "\n",
              "    .dataframe thead th {\n",
              "        text-align: right;\n",
              "    }\n",
              "</style>\n",
              "<table border=\"1\" class=\"dataframe\">\n",
              "  <thead>\n",
              "    <tr style=\"text-align: right;\">\n",
              "      <th></th>\n",
              "      <th>sentiment</th>\n",
              "      <th>id</th>\n",
              "      <th>date</th>\n",
              "      <th>query</th>\n",
              "      <th>user</th>\n",
              "      <th>text</th>\n",
              "    </tr>\n",
              "  </thead>\n",
              "  <tbody>\n",
              "    <tr>\n",
              "      <th>0</th>\n",
              "      <td>4</td>\n",
              "      <td>3</td>\n",
              "      <td>Mon May 11 03:17:40 UTC 2009</td>\n",
              "      <td>kindle2</td>\n",
              "      <td>tpryan</td>\n",
              "      <td>@stellargirl I loooooooovvvvvveee my Kindle2. ...</td>\n",
              "    </tr>\n",
              "    <tr>\n",
              "      <th>1</th>\n",
              "      <td>4</td>\n",
              "      <td>4</td>\n",
              "      <td>Mon May 11 03:18:03 UTC 2009</td>\n",
              "      <td>kindle2</td>\n",
              "      <td>vcu451</td>\n",
              "      <td>Reading my kindle2...  Love it... Lee childs i...</td>\n",
              "    </tr>\n",
              "    <tr>\n",
              "      <th>2</th>\n",
              "      <td>4</td>\n",
              "      <td>5</td>\n",
              "      <td>Mon May 11 03:18:54 UTC 2009</td>\n",
              "      <td>kindle2</td>\n",
              "      <td>chadfu</td>\n",
              "      <td>Ok, first assesment of the #kindle2 ...it fuck...</td>\n",
              "    </tr>\n",
              "    <tr>\n",
              "      <th>3</th>\n",
              "      <td>4</td>\n",
              "      <td>6</td>\n",
              "      <td>Mon May 11 03:19:04 UTC 2009</td>\n",
              "      <td>kindle2</td>\n",
              "      <td>SIX15</td>\n",
              "      <td>@kenburbary You'll love your Kindle2. I've had...</td>\n",
              "    </tr>\n",
              "    <tr>\n",
              "      <th>4</th>\n",
              "      <td>4</td>\n",
              "      <td>7</td>\n",
              "      <td>Mon May 11 03:21:41 UTC 2009</td>\n",
              "      <td>kindle2</td>\n",
              "      <td>yamarama</td>\n",
              "      <td>@mikefish  Fair enough. But i have the Kindle2...</td>\n",
              "    </tr>\n",
              "  </tbody>\n",
              "</table>\n",
              "</div>"
            ],
            "text/plain": [
              "   sentiment  id  ...      user                                               text\n",
              "0          4   3  ...    tpryan  @stellargirl I loooooooovvvvvveee my Kindle2. ...\n",
              "1          4   4  ...    vcu451  Reading my kindle2...  Love it... Lee childs i...\n",
              "2          4   5  ...    chadfu  Ok, first assesment of the #kindle2 ...it fuck...\n",
              "3          4   6  ...     SIX15  @kenburbary You'll love your Kindle2. I've had...\n",
              "4          4   7  ...  yamarama  @mikefish  Fair enough. But i have the Kindle2...\n",
              "\n",
              "[5 rows x 6 columns]"
            ]
          },
          "metadata": {
            "tags": []
          },
          "execution_count": 14
        }
      ]
    },
    {
      "cell_type": "code",
      "metadata": {
        "id": "WLDVGoeYeGvJ",
        "colab_type": "code",
        "outputId": "989d4bf9-d495-48cf-ac8c-24bf43d5761a",
        "colab": {
          "base_uri": "https://localhost:8080/",
          "height": 34
        }
      },
      "source": [
        "test_data.sentiment.unique()"
      ],
      "execution_count": 0,
      "outputs": [
        {
          "output_type": "execute_result",
          "data": {
            "text/plain": [
              "array([4, 0, 2])"
            ]
          },
          "metadata": {
            "tags": []
          },
          "execution_count": 15
        }
      ]
    },
    {
      "cell_type": "code",
      "metadata": {
        "id": "Y-pL_u9meMFJ",
        "colab_type": "code",
        "outputId": "aad4aa9c-8093-403b-8dd0-b96e1f2cd0cd",
        "colab": {
          "base_uri": "https://localhost:8080/",
          "height": 296
        }
      },
      "source": [
        "sns.countplot(test_data.sentiment)"
      ],
      "execution_count": 0,
      "outputs": [
        {
          "output_type": "execute_result",
          "data": {
            "text/plain": [
              "<matplotlib.axes._subplots.AxesSubplot at 0x7f94ad30d978>"
            ]
          },
          "metadata": {
            "tags": []
          },
          "execution_count": 16
        },
        {
          "output_type": "display_data",
          "data": {
            "image/png": "[encoded data removed]",
            "text/plain": [
              "<Figure size 432x288 with 1 Axes>"
            ]
          },
          "metadata": {
            "tags": []
          }
        }
      ]
    },
    {
      "cell_type": "markdown",
      "metadata": {
        "id": "kaKyD5NbepYp",
        "colab_type": "text"
      },
      "source": [
        "### Cleaning"
      ]
    },
    {
      "cell_type": "code",
      "metadata": {
        "id": "xDQqzLCiet0d",
        "colab_type": "code",
        "colab": {}
      },
      "source": [
        "data = train_data"
      ],
      "execution_count": 0,
      "outputs": []
    },
    {
      "cell_type": "code",
      "metadata": {
        "id": "qD3oGNSs-4xI",
        "colab_type": "code",
        "colab": {}
      },
      "source": [
        "data.drop(['id', 'date', 'query', 'user'], axis=1, inplace=True)"
      ],
      "execution_count": 0,
      "outputs": []
    },
    {
      "cell_type": "code",
      "metadata": {
        "id": "3HXMeeoe_JY7",
        "colab_type": "code",
        "outputId": "46fd6b64-2bb6-4210-b6a0-83c5fcf31c18",
        "colab": {
          "base_uri": "https://localhost:8080/",
          "height": 204
        }
      },
      "source": [
        "data.head()"
      ],
      "execution_count": 0,
      "outputs": [
        {
          "output_type": "execute_result",
          "data": {
            "text/html": [
              "<div>\n",
              "<style scoped>\n",
              "    .dataframe tbody tr th:only-of-type {\n",
              "        vertical-align: middle;\n",
              "    }\n",
              "\n",
              "    .dataframe tbody tr th {\n",
              "        vertical-align: top;\n",
              "    }\n",
              "\n",
              "    .dataframe thead th {\n",
              "        text-align: right;\n",
              "    }\n",
              "</style>\n",
              "<table border=\"1\" class=\"dataframe\">\n",
              "  <thead>\n",
              "    <tr style=\"text-align: right;\">\n",
              "      <th></th>\n",
              "      <th>sentiment</th>\n",
              "      <th>text</th>\n",
              "    </tr>\n",
              "  </thead>\n",
              "  <tbody>\n",
              "    <tr>\n",
              "      <th>0</th>\n",
              "      <td>0</td>\n",
              "      <td>@switchfoot http://twitpic.com/2y1zl - Awww, t...</td>\n",
              "    </tr>\n",
              "    <tr>\n",
              "      <th>1</th>\n",
              "      <td>0</td>\n",
              "      <td>is upset that he can't update his Facebook by ...</td>\n",
              "    </tr>\n",
              "    <tr>\n",
              "      <th>2</th>\n",
              "      <td>0</td>\n",
              "      <td>@Kenichan I dived many times for the ball. Man...</td>\n",
              "    </tr>\n",
              "    <tr>\n",
              "      <th>3</th>\n",
              "      <td>0</td>\n",
              "      <td>my whole body feels itchy and like its on fire</td>\n",
              "    </tr>\n",
              "    <tr>\n",
              "      <th>4</th>\n",
              "      <td>0</td>\n",
              "      <td>@nationwideclass no, it's not behaving at all....</td>\n",
              "    </tr>\n",
              "  </tbody>\n",
              "</table>\n",
              "</div>"
            ],
            "text/plain": [
              "   sentiment                                               text\n",
              "0          0  @switchfoot http://twitpic.com/2y1zl - Awww, t...\n",
              "1          0  is upset that he can't update his Facebook by ...\n",
              "2          0  @Kenichan I dived many times for the ball. Man...\n",
              "3          0    my whole body feels itchy and like its on fire \n",
              "4          0  @nationwideclass no, it's not behaving at all...."
            ]
          },
          "metadata": {
            "tags": []
          },
          "execution_count": 19
        }
      ]
    },
    {
      "cell_type": "code",
      "metadata": {
        "id": "KXED_V6s_NPw",
        "colab_type": "code",
        "colab": {}
      },
      "source": [
        "x = data.iloc[:, 1].values"
      ],
      "execution_count": 0,
      "outputs": []
    },
    {
      "cell_type": "code",
      "metadata": {
        "id": "42gTXClZ_ZB5",
        "colab_type": "code",
        "outputId": "ec0e81cf-e0ac-45e8-857f-7c0449bb0451",
        "colab": {
          "base_uri": "https://localhost:8080/",
          "height": 136
        }
      },
      "source": [
        "x"
      ],
      "execution_count": 0,
      "outputs": [
        {
          "output_type": "execute_result",
          "data": {
            "text/plain": [
              "array([\"@switchfoot http://twitpic.com/2y1zl - Awww, that's a bummer.  You shoulda got David Carr of Third Day to do it. ;D\",\n",
              "       \"is upset that he can't update his Facebook by texting it... and might cry as a result  School today also. Blah!\",\n",
              "       '@Kenichan I dived many times for the ball. Managed to save 50%  The rest go out of bounds',\n",
              "       ..., 'Are you ready for your MoJo Makeover? Ask me for details ',\n",
              "       'Happy 38th Birthday to my boo of alll time!!! Tupac Amaru Shakur ',\n",
              "       'happy #charitytuesday @theNSPCC @SparksCharity @SpeakingUpH4H '],\n",
              "      dtype=object)"
            ]
          },
          "metadata": {
            "tags": []
          },
          "execution_count": 21
        }
      ]
    },
    {
      "cell_type": "code",
      "metadata": {
        "id": "aCMIzUkn_bkr",
        "colab_type": "code",
        "outputId": "6086a34b-39e7-4ee7-8edb-4c560cb4ac1f",
        "colab": {
          "base_uri": "https://localhost:8080/",
          "height": 34
        }
      },
      "source": [
        "x.shape"
      ],
      "execution_count": 0,
      "outputs": [
        {
          "output_type": "execute_result",
          "data": {
            "text/plain": [
              "(1600000,)"
            ]
          },
          "metadata": {
            "tags": []
          },
          "execution_count": 22
        }
      ]
    },
    {
      "cell_type": "code",
      "metadata": {
        "id": "uTXQJ2PU_diB",
        "colab_type": "code",
        "outputId": "996accc7-9fde-41c7-8a39-d8e593499c5e",
        "colab": {
          "base_uri": "https://localhost:8080/",
          "height": 34
        }
      },
      "source": [
        "type(x)"
      ],
      "execution_count": 0,
      "outputs": [
        {
          "output_type": "execute_result",
          "data": {
            "text/plain": [
              "numpy.ndarray"
            ]
          },
          "metadata": {
            "tags": []
          },
          "execution_count": 23
        }
      ]
    },
    {
      "cell_type": "code",
      "metadata": {
        "id": "p6xzYeqh_hMz",
        "colab_type": "code",
        "outputId": "8728639a-7d51-4366-9508-f37e3b8dc2a2",
        "colab": {
          "base_uri": "https://localhost:8080/",
          "height": 34
        }
      },
      "source": [
        "y = data.iloc[:, 0].values\n",
        "y"
      ],
      "execution_count": 0,
      "outputs": [
        {
          "output_type": "execute_result",
          "data": {
            "text/plain": [
              "array([0, 0, 0, ..., 4, 4, 4])"
            ]
          },
          "metadata": {
            "tags": []
          },
          "execution_count": 24
        }
      ]
    },
    {
      "cell_type": "markdown",
      "metadata": {
        "id": "-4qNrenKASV_",
        "colab_type": "text"
      },
      "source": [
        "Because of the size of the dataset, it'd take some hours to train. Will only be used 25% of the dataset. "
      ]
    },
    {
      "cell_type": "code",
      "metadata": {
        "id": "UBMLdD56_mKZ",
        "colab_type": "code",
        "colab": {}
      },
      "source": [
        "from sklearn.model_selection import train_test_split\n",
        "x, _, y, _ = train_test_split(x, y, test_size=0.75, stratify = y)# stratify in this case is used to split the same quantity of positive and negative classes"
      ],
      "execution_count": 0,
      "outputs": []
    },
    {
      "cell_type": "code",
      "metadata": {
        "id": "Qc5H6JFwA9XH",
        "colab_type": "code",
        "outputId": "2ef6ad81-e254-48c1-83d6-6c9fa1f0f3fe",
        "colab": {
          "base_uri": "https://localhost:8080/",
          "height": 34
        }
      },
      "source": [
        "x.shape"
      ],
      "execution_count": 0,
      "outputs": [
        {
          "output_type": "execute_result",
          "data": {
            "text/plain": [
              "(400000,)"
            ]
          },
          "metadata": {
            "tags": []
          },
          "execution_count": 26
        }
      ]
    },
    {
      "cell_type": "code",
      "metadata": {
        "id": "BJYpN_EmA_1X",
        "colab_type": "code",
        "outputId": "363099fb-a4f9-4cfd-ee76-3b1a5e971969",
        "colab": {
          "base_uri": "https://localhost:8080/",
          "height": 34
        }
      },
      "source": [
        "y.shape"
      ],
      "execution_count": 0,
      "outputs": [
        {
          "output_type": "execute_result",
          "data": {
            "text/plain": [
              "(400000,)"
            ]
          },
          "metadata": {
            "tags": []
          },
          "execution_count": 27
        }
      ]
    },
    {
      "cell_type": "code",
      "metadata": {
        "id": "W8er1bZEBBxe",
        "colab_type": "code",
        "outputId": "ee2118c4-624f-4ad9-e5e2-43146aa0e420",
        "colab": {
          "base_uri": "https://localhost:8080/",
          "height": 34
        }
      },
      "source": [
        "unique, counts = np.unique(y, return_counts=True)\n",
        "unique, counts"
      ],
      "execution_count": 0,
      "outputs": [
        {
          "output_type": "execute_result",
          "data": {
            "text/plain": [
              "(array([0, 4]), array([200000, 200000]))"
            ]
          },
          "metadata": {
            "tags": []
          },
          "execution_count": 28
        }
      ]
    },
    {
      "cell_type": "code",
      "metadata": {
        "id": "jKtTbkg3FGfO",
        "colab_type": "code",
        "colab": {}
      },
      "source": [
        "#remove stop words (words that may be removed without affecting the classification of the sentiment), using the \"spacy\" library\n",
        "nlp = sp.load('en')\n",
        "stop_words = sp.lang.en.STOP_WORDS"
      ],
      "execution_count": 0,
      "outputs": []
    },
    {
      "cell_type": "code",
      "metadata": {
        "id": "zcU3Dl6WZNrz",
        "colab_type": "code",
        "colab": {}
      },
      "source": [
        "def stop_words_removal(tweet):\n",
        "  tweet = tweet.lower()\n",
        "  document = nlp(tweet)\n",
        "\n",
        "  words = []\n",
        "\n",
        "  for token in document:\n",
        "    words.append(token.text)\n",
        "  \n",
        "  words = [word for word in words if word not in stop_words and word not in string.punctuation]\n",
        "  words = ' '.join([str(element) for element in words])\n",
        "  return words"
      ],
      "execution_count": 0,
      "outputs": []
    },
    {
      "cell_type": "code",
      "metadata": {
        "id": "BfpMYLS1BjxR",
        "colab_type": "code",
        "colab": {}
      },
      "source": [
        "def clean_tweets(tweet, partialClean=False):\n",
        "  tweet = BeautifulSoup(tweet, 'lxml').get_text()\n",
        "  tweet = re.sub(r\"@[A-Za-z0-9]+\", ' ', tweet)#removing the username\n",
        "  tweet = re.sub(r\"https?://[A-Za-z0-9./]+\", ' ', tweet)#removing the URL\n",
        "  if not partialClean:\n",
        "    tweet = re.sub(r\"[^A-Za-z.!?]\", ' ', tweet)#removing special characters\n",
        "    tweet = re.sub(r\" +\", ' ', tweet)\n",
        "    tweet = stop_words_removal(tweet)\n",
        "  else:\n",
        "    tweet = re.sub(\"-\", ' ', tweet)#removing the dashes\n",
        "    tweet = tweet.lower()\n",
        "    tweet = re.sub(r\" +\", ' ', tweet)\n",
        "  return tweet.strip()"
      ],
      "execution_count": 0,
      "outputs": []
    },
    {
      "cell_type": "code",
      "metadata": {
        "id": "Ar35Bp_2EWaC",
        "colab_type": "code",
        "colab": {}
      },
      "source": [
        "text = \"@switchfoot http://twitpic.com/2ylzl - Awww, that's a bummer. You shoulda got David Carr of Third Day to do it. ;D\""
      ],
      "execution_count": 0,
      "outputs": []
    },
    {
      "cell_type": "code",
      "metadata": {
        "id": "IuYR8uhNFDqO",
        "colab_type": "code",
        "outputId": "1d234a1b-722b-4988-a5a1-8949a781c093",
        "colab": {
          "base_uri": "https://localhost:8080/",
          "height": 85
        }
      },
      "source": [
        "clean_text = clean_tweets(text)\n",
        "partial_cleaned_text = clean_tweets(text, True)\n",
        "print(clean_text+'\\n')\n",
        "print(partial_cleaned_text+'\\n')\n",
        "\n"
      ],
      "execution_count": 0,
      "outputs": [
        {
          "output_type": "stream",
          "text": [
            "awww s bummer shoulda got david carr day d\n",
            "\n",
            "awww, that's a bummer. you shoulda got david carr of third day to do it. ;d\n",
            "\n"
          ],
          "name": "stdout"
        }
      ]
    },
    {
      "cell_type": "code",
      "metadata": {
        "id": "IfvDC6e_aW5E",
        "colab_type": "code",
        "colab": {}
      },
      "source": [
        "data_clean = [clean_tweets(tweet) for tweet in x]\n",
        "dt_clean = pd.DataFrame(data_clean)"
      ],
      "execution_count": 0,
      "outputs": []
    },
    {
      "cell_type": "code",
      "metadata": {
        "id": "fzEQzOYxtuKF",
        "colab_type": "code",
        "colab": {}
      },
      "source": [
        "data_partially_clean = [clean_tweets(tweet) for tweet in x]"
      ],
      "execution_count": 0,
      "outputs": []
    },
    {
      "cell_type": "code",
      "metadata": {
        "id": "Ck560102acH5",
        "colab_type": "code",
        "outputId": "c43595c3-bc01-490a-a3de-a33db2076658",
        "colab": {
          "base_uri": "https://localhost:8080/",
          "height": 187
        }
      },
      "source": [
        "for _ in range(10):\n",
        "  print(data_clean[random.randint(0, len(data_clean)-1)])"
      ],
      "execution_count": 0,
      "outputs": [
        {
          "output_type": "stream",
          "text": [
            "love remember year oh fest went taco bell\n",
            "misses download\n",
            "wish leonidas says hi\n",
            "kimbalicious thank\n",
            "thanks\n",
            "chayla gave great advice\n",
            "mate united states got lot australia b lol\n",
            "d noticed difference keith s photos d want ......\n",
            "best friends leaving months came goodbye party fun sad\n",
            "nope friday\n"
          ],
          "name": "stdout"
        }
      ]
    },
    {
      "cell_type": "code",
      "metadata": {
        "id": "QwOM3iVOuiA_",
        "colab_type": "code",
        "outputId": "1d2f503e-a213-4b03-8272-31c04a23cb39",
        "colab": {
          "base_uri": "https://localhost:8080/",
          "height": 187
        }
      },
      "source": [
        "for _ in range(10):\n",
        "  print(data_partially_clean[random.randint(0, len(data_partially_clean)-1)])"
      ],
      "execution_count": 0,
      "outputs": [
        {
          "output_type": "stream",
          "text": [
            "ouch sounds painful\n",
            "sitting waiting carpool\n",
            "think actually possibly falling asleep\n",
            "know\n",
            "miss steppy working bad\n",
            "cried school cos math results hate crying public got st class english\n",
            "trying survive abusive relationship\n",
            "stephanie hahah stealing thunder\n",
            "worries hide delicious candies bought u tempted munch xx\n",
            "need faces mad frowns m m wastin fabric ...\n"
          ],
          "name": "stdout"
        }
      ]
    },
    {
      "cell_type": "code",
      "metadata": {
        "id": "RrCkYYBwii8L",
        "colab_type": "code",
        "colab": {}
      },
      "source": [
        "data_labels = y"
      ],
      "execution_count": 0,
      "outputs": []
    },
    {
      "cell_type": "code",
      "metadata": {
        "id": "fMleC7g7ljHC",
        "colab_type": "code",
        "outputId": "a4855bf1-4253-426b-978b-28cb6bbac3c3",
        "colab": {
          "base_uri": "https://localhost:8080/",
          "height": 34
        }
      },
      "source": [
        "data_labels[data_labels == 4] = 1\n",
        "data_labels"
      ],
      "execution_count": 0,
      "outputs": [
        {
          "output_type": "execute_result",
          "data": {
            "text/plain": [
              "array([1, 1, 1, ..., 0, 0, 0])"
            ]
          },
          "metadata": {
            "tags": []
          },
          "execution_count": 39
        }
      ]
    },
    {
      "cell_type": "code",
      "metadata": {
        "id": "tBJoBLMKlrPP",
        "colab_type": "code",
        "outputId": "dda811cc-513c-4d11-f790-7d7b1b5a61d1",
        "colab": {
          "base_uri": "https://localhost:8080/",
          "height": 34
        }
      },
      "source": [
        "np.unique(data_labels)"
      ],
      "execution_count": 0,
      "outputs": [
        {
          "output_type": "execute_result",
          "data": {
            "text/plain": [
              "array([0, 1])"
            ]
          },
          "metadata": {
            "tags": []
          },
          "execution_count": 40
        }
      ]
    },
    {
      "cell_type": "markdown",
      "metadata": {
        "id": "1hEXrkoVZzLS",
        "colab_type": "text"
      },
      "source": [
        "### Tokenization"
      ]
    },
    {
      "cell_type": "code",
      "metadata": {
        "id": "d3vDJcNwl9sH",
        "colab_type": "code",
        "colab": {}
      },
      "source": [
        "tokenizer_data_clean = tfds.features.text.SubwordTextEncoder.build_from_corpus(data_clean, target_vocab_size=2**16, )\n",
        "tokenizer_dataPartially_clean = tfds.features.text.SubwordTextEncoder.build_from_corpus(data_partially_clean, target_vocab_size=2**16, )"
      ],
      "execution_count": 0,
      "outputs": []
    },
    {
      "cell_type": "code",
      "metadata": {
        "id": "pUCUDG_4aX9f",
        "colab_type": "code",
        "outputId": "e12db989-1883-4eb0-ba22-d5026d426e50",
        "colab": {
          "base_uri": "https://localhost:8080/",
          "height": 34
        }
      },
      "source": [
        "tokenizer_data_clean.vocab_size"
      ],
      "execution_count": 0,
      "outputs": [
        {
          "output_type": "execute_result",
          "data": {
            "text/plain": [
              "70755"
            ]
          },
          "metadata": {
            "tags": []
          },
          "execution_count": 42
        }
      ]
    },
    {
      "cell_type": "code",
      "metadata": {
        "id": "jSc-9e5UPQrb",
        "colab_type": "code",
        "outputId": "8f680b4a-b771-4ac9-e93f-90063ea537b3",
        "colab": {
          "base_uri": "https://localhost:8080/",
          "height": 34
        }
      },
      "source": [
        "tokenizer_dataPartially_clean.vocab_size"
      ],
      "execution_count": 0,
      "outputs": [
        {
          "output_type": "execute_result",
          "data": {
            "text/plain": [
              "70755"
            ]
          },
          "metadata": {
            "tags": []
          },
          "execution_count": 43
        }
      ]
    },
    {
      "cell_type": "code",
      "metadata": {
        "id": "S5a09ThVa7tS",
        "colab_type": "code",
        "outputId": "0eb22829-0ce0-4d03-e0c4-dde9b13fc5d8",
        "colab": {
          "base_uri": "https://localhost:8080/",
          "height": 34
        }
      },
      "source": [
        "ids = tokenizer_data_clean.encode('i am happy')\n",
        "ids"
      ],
      "execution_count": 0,
      "outputs": [
        {
          "output_type": "execute_result",
          "data": {
            "text/plain": [
              "[299, 4562, 376]"
            ]
          },
          "metadata": {
            "tags": []
          },
          "execution_count": 44
        }
      ]
    },
    {
      "cell_type": "code",
      "metadata": {
        "id": "6Gmqg0StbHPh",
        "colab_type": "code",
        "outputId": "c001dcee-45dc-4acc-cfc6-e034c7e70854",
        "colab": {
          "base_uri": "https://localhost:8080/",
          "height": 34
        }
      },
      "source": [
        "phrase = tokenizer_data_clean.decode(ids)\n",
        "phrase"
      ],
      "execution_count": 0,
      "outputs": [
        {
          "output_type": "execute_result",
          "data": {
            "text/plain": [
              "'i am happy'"
            ]
          },
          "metadata": {
            "tags": []
          },
          "execution_count": 45
        }
      ]
    },
    {
      "cell_type": "code",
      "metadata": {
        "id": "zP7PqGh4bQG6",
        "colab_type": "code",
        "colab": {}
      },
      "source": [
        "#create a list of sentence tokens from cleaned data\n",
        "data_clean_inputs = [tokenizer_data_clean.encode(sentence) for sentence in data_clean]"
      ],
      "execution_count": 0,
      "outputs": []
    },
    {
      "cell_type": "code",
      "metadata": {
        "id": "7WVMkv1lRSse",
        "colab_type": "code",
        "colab": {}
      },
      "source": [
        "#create a list of sentence tokens from partially cleaned data\n",
        "data_part_clean_inputs = [tokenizer_dataPartially_clean.encode(sentence) for sentence in data_clean]"
      ],
      "execution_count": 0,
      "outputs": []
    },
    {
      "cell_type": "code",
      "metadata": {
        "id": "jf0rv0P_bqMY",
        "colab_type": "code",
        "outputId": "eec6a2d6-95e0-4e85-e77a-9d37e6531939",
        "colab": {
          "base_uri": "https://localhost:8080/",
          "height": 187
        }
      },
      "source": [
        "for _ in range(10):\n",
        "  print(data_clean_inputs[random.randint(0, len(data_clean_inputs)-1)])"
      ],
      "execution_count": 0,
      "outputs": [
        {
          "output_type": "stream",
          "text": [
            "[8, 136, 53, 2159, 943, 75, 15629]\n",
            "[348, 297, 64, 4488]\n",
            "[67823]\n",
            "[23, 11, 62, 930, 4, 77, 182, 634, 1838, 12, 9194]\n",
            "[175, 2196, 2, 13002, 12084, 4087, 56, 113, 1625]\n",
            "[204, 12, 36873]\n",
            "[1, 5, 25410, 2, 51, 8780, 23052, 51743, 70599]\n",
            "[1241, 4672, 245, 2886, 48, 2, 30, 43]\n",
            "[1, 172, 760, 259, 7345, 23548]\n",
            "[577, 561, 60, 39]\n"
          ],
          "name": "stdout"
        }
      ]
    },
    {
      "cell_type": "code",
      "metadata": {
        "id": "ON0wPRaERnkO",
        "colab_type": "code",
        "outputId": "8e0c6170-2617-4f74-bb1d-b77f67a29e79",
        "colab": {
          "base_uri": "https://localhost:8080/",
          "height": 187
        }
      },
      "source": [
        "for _ in range(10):\n",
        "  print(data_part_clean_inputs[random.randint(0, len(data_part_clean_inputs)-1)])"
      ],
      "execution_count": 0,
      "outputs": [
        {
          "output_type": "stream",
          "text": [
            "[2579, 2792, 76, 2579, 19, 5235, 5263, 5407, 207, 32, 1348]\n",
            "[1071, 24, 778, 28480]\n",
            "[265, 1571, 367, 37]\n",
            "[24, 33, 2, 8342]\n",
            "[30, 574, 293, 542, 10811, 52, 3, 161, 345]\n",
            "[6333, 57, 70, 38, 52, 3, 16, 209, 356, 103, 2956]\n",
            "[66, 1111, 36, 4332, 1436, 41, 1111, 12, 601]\n",
            "[14065, 2276, 5352, 766, 1848, 331, 45, 19036]\n",
            "[50835, 55951, 5154, 6, 5311, 34405, 70531, 6249, 36831, 68677, 2490, 41869, 52848, 70531, 2405, 2597, 6, 1871]\n",
            "[3225, 54422, 70531, 528, 7748, 127, 3, 628, 35476, 18407, 8443, 6836]\n"
          ],
          "name": "stdout"
        }
      ]
    },
    {
      "cell_type": "markdown",
      "metadata": {
        "id": "UAVQQTHPcO62",
        "colab_type": "text"
      },
      "source": [
        "### Padding\n",
        "\n",
        "Pad the sentences, so all get the same size"
      ]
    },
    {
      "cell_type": "code",
      "metadata": {
        "id": "x4SkUztmb5U1",
        "colab_type": "code",
        "outputId": "b3dbcf6c-241b-44f5-cf9b-3982127e3d3f",
        "colab": {
          "base_uri": "https://localhost:8080/",
          "height": 34
        }
      },
      "source": [
        "max_len_clean = max([len(sentence) for sentence in data_clean_inputs])\n",
        "max_len_clean"
      ],
      "execution_count": 0,
      "outputs": [
        {
          "output_type": "execute_result",
          "data": {
            "text/plain": [
              "52"
            ]
          },
          "metadata": {
            "tags": []
          },
          "execution_count": 50
        }
      ]
    },
    {
      "cell_type": "code",
      "metadata": {
        "id": "BFi4tNtRSihh",
        "colab_type": "code",
        "outputId": "daf77ff2-0f87-4c83-82c1-6da61adff94f",
        "colab": {
          "base_uri": "https://localhost:8080/",
          "height": 34
        }
      },
      "source": [
        "max_len_part_clean = max([len(sentence) for sentence in data_part_clean_inputs])\n",
        "max_len_part_clean"
      ],
      "execution_count": 0,
      "outputs": [
        {
          "output_type": "execute_result",
          "data": {
            "text/plain": [
              "52"
            ]
          },
          "metadata": {
            "tags": []
          },
          "execution_count": 51
        }
      ]
    },
    {
      "cell_type": "code",
      "metadata": {
        "id": "l5C4fSCwfTdZ",
        "colab_type": "code",
        "colab": {}
      },
      "source": [
        "#pad the sentences with 0s on the right\n",
        "data_clean_inputs = tf.keras.preprocessing.sequence.pad_sequences(data_clean_inputs, value=0, padding='post', maxlen=max_len_clean)\n",
        "data_part_clean_inputs = tf.keras.preprocessing.sequence.pad_sequences(data_part_clean_inputs, value=0, padding='post', maxlen=max_len_part_clean)"
      ],
      "execution_count": 0,
      "outputs": []
    },
    {
      "cell_type": "code",
      "metadata": {
        "id": "i2pjcv-WgGyL",
        "colab_type": "code",
        "outputId": "3de803da-0365-4d4e-a073-0e06eb305660",
        "colab": {
          "base_uri": "https://localhost:8080/",
          "height": 765
        }
      },
      "source": [
        "for _ in range(10):\n",
        "  print(data_clean_inputs[random.randint(0, len(data_clean_inputs)-1)])"
      ],
      "execution_count": 0,
      "outputs": [
        {
          "output_type": "stream",
          "text": [
            "[  215  1440   267  5030    94   498    23  6495 28959 70531  8734     0\n",
            "     0     0     0     0     0     0     0     0     0     0     0     0\n",
            "     0     0     0     0     0     0     0     0     0     0     0     0\n",
            "     0     0     0     0     0     0     0     0     0     0     0     0\n",
            "     0     0     0     0]\n",
            "[ 296  758 1688  251  184   43    0    0    0    0    0    0    0    0\n",
            "    0    0    0    0    0    0    0    0    0    0    0    0    0    0\n",
            "    0    0    0    0    0    0    0    0    0    0    0    0    0    0\n",
            "    0    0    0    0    0    0    0    0    0    0]\n",
            "[2713 1783    0    0    0    0    0    0    0    0    0    0    0    0\n",
            "    0    0    0    0    0    0    0    0    0    0    0    0    0    0\n",
            "    0    0    0    0    0    0    0    0    0    0    0    0    0    0\n",
            "    0    0    0    0    0    0    0    0    0    0]\n",
            "[2269 4544   79 2284 5014    0    0    0    0    0    0    0    0    0\n",
            "    0    0    0    0    0    0    0    0    0    0    0    0    0    0\n",
            "    0    0    0    0    0    0    0    0    0    0    0    0    0    0\n",
            "    0    0    0    0    0    0    0    0    0    0]\n",
            "[  12  604 8471    0    0    0    0    0    0    0    0    0    0    0\n",
            "    0    0    0    0    0    0    0    0    0    0    0    0    0    0\n",
            "    0    0    0    0    0    0    0    0    0    0    0    0    0    0\n",
            "    0    0    0    0    0    0    0    0    0    0]\n",
            "[ 1383   934  3733  2756 70545     0     0     0     0     0     0     0\n",
            "     0     0     0     0     0     0     0     0     0     0     0     0\n",
            "     0     0     0     0     0     0     0     0     0     0     0     0\n",
            "     0     0     0     0     0     0     0     0     0     0     0     0\n",
            "     0     0     0     0]\n",
            "[39436  1183   656  8198     8   952    17  1219 29380   318   122    17\n",
            "    21   156 33074   109  2838     0     0     0     0     0     0     0\n",
            "     0     0     0     0     0     0     0     0     0     0     0     0\n",
            "     0     0     0     0     0     0     0     0     0     0     0     0\n",
            "     0     0     0     0]\n",
            "[52  3 61 54  0  0  0  0  0  0  0  0  0  0  0  0  0  0  0  0  0  0  0  0\n",
            "  0  0  0  0  0  0  0  0  0  0  0  0  0  0  0  0  0  0  0  0  0  0  0  0\n",
            "  0  0  0  0]\n",
            "[ 5331 12082     0     0     0     0     0     0     0     0     0     0\n",
            "     0     0     0     0     0     0     0     0     0     0     0     0\n",
            "     0     0     0     0     0     0     0     0     0     0     0     0\n",
            "     0     0     0     0     0     0     0     0     0     0     0     0\n",
            "     0     0     0     0]\n",
            "[   66     5  3650   263 70619     0     0     0     0     0     0     0\n",
            "     0     0     0     0     0     0     0     0     0     0     0     0\n",
            "     0     0     0     0     0     0     0     0     0     0     0     0\n",
            "     0     0     0     0     0     0     0     0     0     0     0     0\n",
            "     0     0     0     0]\n"
          ],
          "name": "stdout"
        }
      ]
    },
    {
      "cell_type": "code",
      "metadata": {
        "id": "SbNZmds4TE6w",
        "colab_type": "code",
        "outputId": "f1ece942-d7d5-487f-d073-9a385473413b",
        "colab": {
          "base_uri": "https://localhost:8080/",
          "height": 697
        }
      },
      "source": [
        "for _ in range(10):\n",
        "  print(data_part_clean_inputs[random.randint(0, len(data_part_clean_inputs)-1)])"
      ],
      "execution_count": 0,
      "outputs": [
        {
          "output_type": "stream",
          "text": [
            "[ 2524 15104  2570    26 11145 35087 70531  8090 17698  3505 29098    32\n",
            "   117  4828     0     0     0     0     0     0     0     0     0     0\n",
            "     0     0     0     0     0     0     0     0     0     0     0     0\n",
            "     0     0     0     0     0     0     0     0     0     0     0     0\n",
            "     0     0     0     0]\n",
            "[  22   79  364   22  167    4    3   58 5829    0    0    0    0    0\n",
            "    0    0    0    0    0    0    0    0    0    0    0    0    0    0\n",
            "    0    0    0    0    0    0    0    0    0    0    0    0    0    0\n",
            "    0    0    0    0    0    0    0    0    0    0]\n",
            "[ 47  26 350  43   0   0   0   0   0   0   0   0   0   0   0   0   0   0\n",
            "   0   0   0   0   0   0   0   0   0   0   0   0   0   0   0   0   0   0\n",
            "   0   0   0   0   0   0   0   0   0   0   0   0   0   0   0   0]\n",
            "[  84    2   10  635   30    2 1167  245  178  132    0    0    0    0\n",
            "    0    0    0    0    0    0    0    0    0    0    0    0    0    0\n",
            "    0    0    0    0    0    0    0    0    0    0    0    0    0    0\n",
            "    0    0    0    0    0    0    0    0    0    0]\n",
            "[ 30 849   0   0   0   0   0   0   0   0   0   0   0   0   0   0   0   0\n",
            "   0   0   0   0   0   0   0   0   0   0   0   0   0   0   0   0   0   0\n",
            "   0   0   0   0   0   0   0   0   0   0   0   0   0   0   0   0]\n",
            "[   18   197     3    10    55  1886   148 59856 70531   390  1604   107\n",
            "    44    42    56   118   387     0     0     0     0     0     0     0\n",
            "     0     0     0     0     0     0     0     0     0     0     0     0\n",
            "     0     0     0     0     0     0     0     0     0     0     0     0\n",
            "     0     0     0     0]\n",
            "[   8  294 1324    0    0    0    0    0    0    0    0    0    0    0\n",
            "    0    0    0    0    0    0    0    0    0    0    0    0    0    0\n",
            "    0    0    0    0    0    0    0    0    0    0    0    0    0    0\n",
            "    0    0    0    0    0    0    0    0    0    0]\n",
            "[27596    16   148    50  2971    31   586     9 63786  3404  3873  8870\n",
            "   363    23 30504 37371 24573 58560     0     0     0     0     0     0\n",
            "     0     0     0     0     0     0     0     0     0     0     0     0\n",
            "     0     0     0     0     0     0     0     0     0     0     0     0\n",
            "     0     0     0     0]\n",
            "[  24 1953    0    0    0    0    0    0    0    0    0    0    0    0\n",
            "    0    0    0    0    0    0    0    0    0    0    0    0    0    0\n",
            "    0    0    0    0    0    0    0    0    0    0    0    0    0    0\n",
            "    0    0    0    0    0    0    0    0    0    0]\n",
            "[138   0   0   0   0   0   0   0   0   0   0   0   0   0   0   0   0   0\n",
            "   0   0   0   0   0   0   0   0   0   0   0   0   0   0   0   0   0   0\n",
            "   0   0   0   0   0   0   0   0   0   0   0   0   0   0   0   0]\n"
          ],
          "name": "stdout"
        }
      ]
    },
    {
      "cell_type": "markdown",
      "metadata": {
        "id": "czGtmBUvpEDD",
        "colab_type": "text"
      },
      "source": [
        "### Split the dataset into train and test"
      ]
    },
    {
      "cell_type": "code",
      "metadata": {
        "id": "TAmamo3fgJh9",
        "colab_type": "code",
        "colab": {}
      },
      "source": [
        "train_inputs_cl, test_inputs_cl, train_labels_cl, test_labels_cl = train_test_split(data_clean_inputs, data_labels, test_size=0.3, stratify = data_labels)"
      ],
      "execution_count": 0,
      "outputs": []
    },
    {
      "cell_type": "code",
      "metadata": {
        "id": "6GVq7Re2qAGK",
        "colab_type": "code",
        "outputId": "7c0f0121-c4f8-4959-fdcf-a2b78bc02334",
        "colab": {
          "base_uri": "https://localhost:8080/",
          "height": 102
        }
      },
      "source": [
        "train_inputs_cl[0]"
      ],
      "execution_count": 0,
      "outputs": [
        {
          "output_type": "execute_result",
          "data": {
            "text/plain": [
              "array([2879,  562, 2267,  367,  366,  107,   45, 1248, 2795,    4, 1447,\n",
              "         15,    0,    0,    0,    0,    0,    0,    0,    0,    0,    0,\n",
              "          0,    0,    0,    0,    0,    0,    0,    0,    0,    0,    0,\n",
              "          0,    0,    0,    0,    0,    0,    0,    0,    0,    0,    0,\n",
              "          0,    0,    0,    0,    0,    0,    0,    0], dtype=int32)"
            ]
          },
          "metadata": {
            "tags": []
          },
          "execution_count": 56
        }
      ]
    },
    {
      "cell_type": "code",
      "metadata": {
        "id": "ursMKydkqGHx",
        "colab_type": "code",
        "outputId": "fa17b375-f6bc-456d-db79-1cf0f6c3f479",
        "colab": {
          "base_uri": "https://localhost:8080/",
          "height": 34
        }
      },
      "source": [
        "train_inputs_cl.shape"
      ],
      "execution_count": 0,
      "outputs": [
        {
          "output_type": "execute_result",
          "data": {
            "text/plain": [
              "(280000, 52)"
            ]
          },
          "metadata": {
            "tags": []
          },
          "execution_count": 57
        }
      ]
    },
    {
      "cell_type": "code",
      "metadata": {
        "id": "8QgLTwWnqiFh",
        "colab_type": "code",
        "outputId": "82c17905-b0d4-4816-921e-e025f7e62525",
        "colab": {
          "base_uri": "https://localhost:8080/",
          "height": 34
        }
      },
      "source": [
        "train_labels_cl.shape"
      ],
      "execution_count": 0,
      "outputs": [
        {
          "output_type": "execute_result",
          "data": {
            "text/plain": [
              "(280000,)"
            ]
          },
          "metadata": {
            "tags": []
          },
          "execution_count": 58
        }
      ]
    },
    {
      "cell_type": "code",
      "metadata": {
        "id": "m2ubnu_6qjmo",
        "colab_type": "code",
        "outputId": "c74e87c4-c8b2-4674-9e19-4a54b923fc77",
        "colab": {
          "base_uri": "https://localhost:8080/",
          "height": 34
        }
      },
      "source": [
        "test_inputs_cl.shape"
      ],
      "execution_count": 0,
      "outputs": [
        {
          "output_type": "execute_result",
          "data": {
            "text/plain": [
              "(120000, 52)"
            ]
          },
          "metadata": {
            "tags": []
          },
          "execution_count": 59
        }
      ]
    },
    {
      "cell_type": "code",
      "metadata": {
        "id": "D6szw1upqpKh",
        "colab_type": "code",
        "outputId": "0df4d361-9df2-4c02-ef45-812e7623e366",
        "colab": {
          "base_uri": "https://localhost:8080/",
          "height": 34
        }
      },
      "source": [
        "test_labels_cl.shape"
      ],
      "execution_count": 0,
      "outputs": [
        {
          "output_type": "execute_result",
          "data": {
            "text/plain": [
              "(120000,)"
            ]
          },
          "metadata": {
            "tags": []
          },
          "execution_count": 60
        }
      ]
    },
    {
      "cell_type": "code",
      "metadata": {
        "id": "Rp4KGOtPTvM6",
        "colab_type": "code",
        "colab": {}
      },
      "source": [
        "train_inputs_pc, test_inputs_pc, train_labels_pc, test_labels_pc = train_test_split(data_part_clean_inputs, data_labels, test_size=0.3, stratify = data_labels)"
      ],
      "execution_count": 0,
      "outputs": []
    },
    {
      "cell_type": "code",
      "metadata": {
        "id": "MjVsoE-_TvBl",
        "colab_type": "code",
        "outputId": "d000018e-7921-4c76-c8e8-6728f055befb",
        "colab": {
          "base_uri": "https://localhost:8080/",
          "height": 102
        }
      },
      "source": [
        "train_inputs_pc[0]"
      ],
      "execution_count": 0,
      "outputs": [
        {
          "output_type": "execute_result",
          "data": {
            "text/plain": [
              "array([129, 185,  98,   5, 132,   0,   0,   0,   0,   0,   0,   0,   0,\n",
              "         0,   0,   0,   0,   0,   0,   0,   0,   0,   0,   0,   0,   0,\n",
              "         0,   0,   0,   0,   0,   0,   0,   0,   0,   0,   0,   0,   0,\n",
              "         0,   0,   0,   0,   0,   0,   0,   0,   0,   0,   0,   0,   0],\n",
              "      dtype=int32)"
            ]
          },
          "metadata": {
            "tags": []
          },
          "execution_count": 62
        }
      ]
    },
    {
      "cell_type": "code",
      "metadata": {
        "id": "rC4O-juMTu1t",
        "colab_type": "code",
        "outputId": "519db853-92d1-4c57-a060-1ab51044c286",
        "colab": {
          "base_uri": "https://localhost:8080/",
          "height": 34
        }
      },
      "source": [
        "train_inputs_pc.shape"
      ],
      "execution_count": 0,
      "outputs": [
        {
          "output_type": "execute_result",
          "data": {
            "text/plain": [
              "(280000, 52)"
            ]
          },
          "metadata": {
            "tags": []
          },
          "execution_count": 63
        }
      ]
    },
    {
      "cell_type": "code",
      "metadata": {
        "id": "3PqEXYhyTupC",
        "colab_type": "code",
        "outputId": "14b8cc9d-2600-446e-e4a0-a6be11afad21",
        "colab": {
          "base_uri": "https://localhost:8080/",
          "height": 34
        }
      },
      "source": [
        "train_labels_pc.shape"
      ],
      "execution_count": 0,
      "outputs": [
        {
          "output_type": "execute_result",
          "data": {
            "text/plain": [
              "(280000,)"
            ]
          },
          "metadata": {
            "tags": []
          },
          "execution_count": 64
        }
      ]
    },
    {
      "cell_type": "code",
      "metadata": {
        "id": "TajOYc-STuaX",
        "colab_type": "code",
        "outputId": "ad3599d1-6554-42c3-b2c9-d036959f15cc",
        "colab": {
          "base_uri": "https://localhost:8080/",
          "height": 34
        }
      },
      "source": [
        "test_inputs_pc.shape"
      ],
      "execution_count": 0,
      "outputs": [
        {
          "output_type": "execute_result",
          "data": {
            "text/plain": [
              "(120000, 52)"
            ]
          },
          "metadata": {
            "tags": []
          },
          "execution_count": 65
        }
      ]
    },
    {
      "cell_type": "code",
      "metadata": {
        "id": "Jxz57CiiTsxx",
        "colab_type": "code",
        "outputId": "228d66a0-c31f-492b-fed8-312252d887c2",
        "colab": {
          "base_uri": "https://localhost:8080/",
          "height": 34
        }
      },
      "source": [
        "test_labels_pc.shape"
      ],
      "execution_count": 0,
      "outputs": [
        {
          "output_type": "execute_result",
          "data": {
            "text/plain": [
              "(120000,)"
            ]
          },
          "metadata": {
            "tags": []
          },
          "execution_count": 66
        }
      ]
    },
    {
      "cell_type": "markdown",
      "metadata": {
        "id": "4lssow9IsCYs",
        "colab_type": "text"
      },
      "source": [
        "# Section 3: Building the Model"
      ]
    },
    {
      "cell_type": "code",
      "metadata": {
        "id": "-SgjN5gJqqkw",
        "colab_type": "code",
        "colab": {}
      },
      "source": [
        "class DCNN(tf.keras.Model):\n",
        "  def __init__(self,\n",
        "               vocab_size,\n",
        "               emb_dim=128,\n",
        "               nb_filters=50,\n",
        "               ffn_units=512,\n",
        "               nb_classes=2,\n",
        "               dropout_rate=0.1,\n",
        "               training=True,\n",
        "               name=\"dcnn\"):\n",
        "    '''\n",
        "    :param vocab_size: Size of the vocabulary\n",
        "    :param emb_dim: Dimension of the embedding -- emb_dim=128\n",
        "    :param nb_filters: Number of convolutional -- filters nb_filters=50\n",
        "    :param ffn_units: Number of Feedforward Networks units -- ffn_units=512\n",
        "    :param nb_classes: Number of classes -- nb_classes=2\n",
        "    :param dropout_rate: Dropout rate, helps to avoid overfitting -- dropout_rate=0.1\n",
        "    :param training: training=False\n",
        "    :param name: name=\"dcnn\"\n",
        "    '''\n",
        "    super(DCNN, self).__init__(name=name)\n",
        "\n",
        "    #Convolution Layers\n",
        "    self.embedding = layers.Embedding(vocab_size, emb_dim)\n",
        "\n",
        "    self.bigram = layers.Conv1D(filters=nb_filters, kernel_size=2, padding='same', activation='relu')\n",
        "\n",
        "    self.trigram = layers.Conv1D(filters=nb_filters, kernel_size=3, padding='same', activation='relu')\n",
        "\n",
        "    self.fourgram = layers.Conv1D(filters=nb_filters, kernel_size=4, padding='same', activation='relu')\n",
        "\n",
        "    self.pool = layers.GlobalMaxPool1D()\n",
        "\n",
        "    #Dense Network\n",
        "    self.dense_1 = layers.Dense(units = ffn_units)\n",
        "\n",
        "    self.dropout = layers.Dropout(rate = dropout_rate)\n",
        "    if nb_classes == 2:\n",
        "      #we want, in this case, return only one correct classification\n",
        "      self.last_dense = layers.Dense(units=1, activation='sigmoid')\n",
        "    else:\n",
        "      #Softmax activation function returns the probability of all classes \n",
        "      self.last_dense = layers.Dense(units=nb_classes, activation='softmax')\n",
        "\n",
        "    \n",
        "  def call(self, inputs, training):\n",
        "    x = self.embedding(inputs)\n",
        "    x_1 = self.bigram(x)\n",
        "    x_1 = self.pool(x_1)\n",
        "\n",
        "    x_2 = self.trigram(x)\n",
        "    x_2 = self.pool(x_2)\n",
        "\n",
        "    x_3 = self.fourgram(x)\n",
        "    x_3 = self.pool(x_3)\n",
        "\n",
        "    merged = tf.concat([x_1, x_2, x_3], axis=-1)\n",
        "    merged = self.dense_1(merged)\n",
        "    merged = self.dropout(merged, training)\n",
        "    output = self.last_dense(merged)\n",
        "\n",
        "    return output"
      ],
      "execution_count": 0,
      "outputs": []
    },
    {
      "cell_type": "markdown",
      "metadata": {
        "id": "JcxjoSMu6tSp",
        "colab_type": "text"
      },
      "source": [
        "# Section 4: Training"
      ]
    },
    {
      "cell_type": "markdown",
      "metadata": {
        "id": "FDuGtVnW6yc0",
        "colab_type": "text"
      },
      "source": [
        "### Parameters Setup\n",
        "\n",
        "Parameters were tested in advance and performed the best results among the tested."
      ]
    },
    {
      "cell_type": "code",
      "metadata": {
        "id": "HntQ4kgl3esl",
        "colab_type": "code",
        "colab": {}
      },
      "source": [
        "vocab_size_cl = tokenizer_data_clean.vocab_size\n",
        "vocab_size_pc = tokenizer_dataPartially_clean.vocab_size\n",
        "emb_dim = 200\n",
        "nb_filters = 100\n",
        "ffn_units = 256\n",
        "batch_size=64\n",
        "nb_classes = 2 #set function returns the number of unique values in train_labels\n",
        "dropout_rate = 0.2\n",
        "nb_epochs = 15"
      ],
      "execution_count": 0,
      "outputs": []
    },
    {
      "cell_type": "markdown",
      "metadata": {
        "id": "gunMTsYJGK1t",
        "colab_type": "text"
      },
      "source": [
        "### Training Totally Cleaned Data"
      ]
    },
    {
      "cell_type": "code",
      "metadata": {
        "id": "1E_9BK0X8K1o",
        "colab_type": "code",
        "colab": {}
      },
      "source": [
        "dcnn = DCNN(vocab_size=vocab_size_cl, emb_dim=emb_dim,\n",
        "            nb_filters=nb_filters, ffn_units=ffn_units,\n",
        "            nb_classes=nb_classes, dropout_rate=dropout_rate)"
      ],
      "execution_count": 0,
      "outputs": []
    },
    {
      "cell_type": "code",
      "metadata": {
        "id": "AIvZ8yfoI-WE",
        "colab_type": "code",
        "colab": {}
      },
      "source": [
        "if nb_classes == 2:\n",
        "  dcnn.compile(loss='binary_crossentropy', optimizer='adam', metrics=['accuracy'])\n",
        "else:\n",
        "  dcnn.compile(loss='sparse_categorical_crossentropy', optimizer='adam', metrics=['accuracy'])"
      ],
      "execution_count": 0,
      "outputs": []
    },
    {
      "cell_type": "code",
      "metadata": {
        "id": "IsZGfFxJKRPz",
        "colab_type": "code",
        "colab": {}
      },
      "source": [
        "checkpoint_path = '/content/drive/My Drive/Checkpoints/dt_clean'\n",
        "ckpt = tf.train.Checkpoint(dcnn=dcnn)\n",
        "ckpt_manager = tf.train.CheckpointManager(ckpt, checkpoint_path, max_to_keep=5)\n",
        "if ckpt_manager.latest_checkpoint:\n",
        "  ckpt.restore(ckpt_manager.latest_checkpoint)\n",
        "  print('Latest checkpoint restored')"
      ],
      "execution_count": 0,
      "outputs": []
    },
    {
      "cell_type": "code",
      "metadata": {
        "id": "ByddDWMWMbm3",
        "colab_type": "code",
        "outputId": "27cd1d6d-99b0-491a-98f6-4fbeea0db5bb",
        "colab": {
          "base_uri": "https://localhost:8080/",
          "height": 544
        }
      },
      "source": [
        "history = dcnn.fit(train_inputs_cl, \n",
        "                   train_labels_cl,\n",
        "                   batch_size=batch_size,\n",
        "                   epochs = nb_epochs,\n",
        "                   verbose = 1,\n",
        "                   validation_split= 0.10)\n",
        "ckpt_manager.save()"
      ],
      "execution_count": 0,
      "outputs": [
        {
          "output_type": "stream",
          "text": [
            "Train on 252000 samples, validate on 28000 samples\n",
            "Epoch 1/15\n",
            "252000/252000 [==============================] - 529s 2ms/sample - loss: 0.4954 - accuracy: 0.7571 - val_loss: 0.4704 - val_accuracy: 0.7746\n",
            "Epoch 2/15\n",
            "252000/252000 [==============================] - 527s 2ms/sample - loss: 0.3732 - accuracy: 0.8354 - val_loss: 0.4906 - val_accuracy: 0.7679\n",
            "Epoch 3/15\n",
            "252000/252000 [==============================] - 528s 2ms/sample - loss: 0.2127 - accuracy: 0.9140 - val_loss: 0.6510 - val_accuracy: 0.7441\n",
            "Epoch 4/15\n",
            "252000/252000 [==============================] - 533s 2ms/sample - loss: 0.1152 - accuracy: 0.9546 - val_loss: 0.8332 - val_accuracy: 0.7279\n",
            "Epoch 5/15\n",
            "252000/252000 [==============================] - 536s 2ms/sample - loss: 0.0797 - accuracy: 0.9684 - val_loss: 0.9761 - val_accuracy: 0.7262\n",
            "Epoch 6/15\n",
            "252000/252000 [==============================] - 531s 2ms/sample - loss: 0.0621 - accuracy: 0.9753 - val_loss: 1.1105 - val_accuracy: 0.7299\n",
            "Epoch 7/15\n",
            "252000/252000 [==============================] - 531s 2ms/sample - loss: 0.0528 - accuracy: 0.9794 - val_loss: 1.0918 - val_accuracy: 0.7261\n",
            "Epoch 8/15\n",
            "252000/252000 [==============================] - 534s 2ms/sample - loss: 0.0460 - accuracy: 0.9820 - val_loss: 1.1677 - val_accuracy: 0.7262\n",
            "Epoch 9/15\n",
            "252000/252000 [==============================] - 532s 2ms/sample - loss: 0.0414 - accuracy: 0.9836 - val_loss: 1.2827 - val_accuracy: 0.7242\n",
            "Epoch 10/15\n",
            "252000/252000 [==============================] - 530s 2ms/sample - loss: 0.0385 - accuracy: 0.9847 - val_loss: 1.2965 - val_accuracy: 0.7271\n",
            "Epoch 11/15\n",
            "252000/252000 [==============================] - 531s 2ms/sample - loss: 0.0364 - accuracy: 0.9857 - val_loss: 1.4773 - val_accuracy: 0.7214\n",
            "Epoch 12/15\n",
            "252000/252000 [==============================] - 532s 2ms/sample - loss: 0.0342 - accuracy: 0.9865 - val_loss: 1.6109 - val_accuracy: 0.7125\n",
            "Epoch 13/15\n",
            "252000/252000 [==============================] - 530s 2ms/sample - loss: 0.0333 - accuracy: 0.9871 - val_loss: 1.4011 - val_accuracy: 0.7247\n",
            "Epoch 14/15\n",
            "252000/252000 [==============================] - 535s 2ms/sample - loss: 0.0316 - accuracy: 0.9877 - val_loss: 1.5880 - val_accuracy: 0.7180\n",
            "Epoch 15/15\n",
            "130240/252000 [==============>...............] - ETA: 4:20 - loss: 0.0293 - accuracy: 0.9883Buffered data was truncated after reaching the output size limit."
          ],
          "name": "stdout"
        }
      ]
    },
    {
      "cell_type": "markdown",
      "metadata": {
        "id": "sFxXqfUqsCs0",
        "colab_type": "text"
      },
      "source": [
        "### Training Partially Cleaned Data"
      ]
    },
    {
      "cell_type": "code",
      "metadata": {
        "id": "9YHRDxrpsLux",
        "colab_type": "code",
        "colab": {}
      },
      "source": [
        "dcnn2 = DCNN(vocab_size=vocab_size_pc, emb_dim=emb_dim,\n",
        "            nb_filters=nb_filters, ffn_units=ffn_units,\n",
        "            nb_classes=nb_classes, dropout_rate=dropout_rate)"
      ],
      "execution_count": 0,
      "outputs": []
    },
    {
      "cell_type": "code",
      "metadata": {
        "id": "ped7BJQnsd_o",
        "colab_type": "code",
        "colab": {}
      },
      "source": [
        "if nb_classes == 2:\n",
        "  dcnn2.compile(loss='binary_crossentropy', optimizer='adam', metrics=['accuracy'])\n",
        "else:\n",
        "  dcnn2.compile(loss='sparse_categorical_crossentropy', optimizer='adam', metrics=['accuracy'])"
      ],
      "execution_count": 0,
      "outputs": []
    },
    {
      "cell_type": "code",
      "metadata": {
        "id": "i8f0MfPJsjLK",
        "colab_type": "code",
        "colab": {}
      },
      "source": [
        "checkpoint_path2 = '/content/drive/My Drive/Checkpoints/dt_partially_clean'\n",
        "ckpt2 = tf.train.Checkpoint(dcnn=dcnn2)\n",
        "ckpt_manager2 = tf.train.CheckpointManager(ckpt2, checkpoint_path2, max_to_keep=5)\n",
        "if ckpt_manager2.latest_checkpoint:\n",
        "  ckpt.restore(ckpt_manager2.latest_checkpoint)\n",
        "  print('Latest checkpoint restored')"
      ],
      "execution_count": 0,
      "outputs": []
    },
    {
      "cell_type": "code",
      "metadata": {
        "id": "oe2pbJm8sdws",
        "colab_type": "code",
        "outputId": "32b827e2-b6da-43d4-c547-3d40609f6a1e",
        "colab": {
          "base_uri": "https://localhost:8080/",
          "height": 544
        }
      },
      "source": [
        "history2 = dcnn2.fit(train_inputs_pc, \n",
        "                   train_labels_pc,\n",
        "                   batch_size=batch_size,\n",
        "                   epochs = nb_epochs,\n",
        "                   verbose = 1,\n",
        "                   validation_split= 0.10)\n",
        "ckpt_manager.save()"
      ],
      "execution_count": 0,
      "outputs": [
        {
          "output_type": "stream",
          "text": [
            "Train on 252000 samples, validate on 28000 samples\n",
            "Epoch 1/15\n",
            "252000/252000 [==============================] - 533s 2ms/sample - loss: 0.4953 - accuracy: 0.7582 - val_loss: 0.4692 - val_accuracy: 0.7743\n",
            "Epoch 2/15\n",
            "252000/252000 [==============================] - 533s 2ms/sample - loss: 0.3721 - accuracy: 0.8368 - val_loss: 0.4958 - val_accuracy: 0.7650\n",
            "Epoch 3/15\n",
            "252000/252000 [==============================] - 539s 2ms/sample - loss: 0.2145 - accuracy: 0.9128 - val_loss: 0.6308 - val_accuracy: 0.7507\n",
            "Epoch 4/15\n",
            "252000/252000 [==============================] - 533s 2ms/sample - loss: 0.1184 - accuracy: 0.9535 - val_loss: 0.8619 - val_accuracy: 0.7354\n",
            "Epoch 5/15\n",
            "252000/252000 [==============================] - 534s 2ms/sample - loss: 0.0812 - accuracy: 0.9679 - val_loss: 1.0021 - val_accuracy: 0.7343\n",
            "Epoch 6/15\n",
            "252000/252000 [==============================] - 542s 2ms/sample - loss: 0.0632 - accuracy: 0.9751 - val_loss: 1.0357 - val_accuracy: 0.7291\n",
            "Epoch 7/15\n",
            "252000/252000 [==============================] - 547s 2ms/sample - loss: 0.0527 - accuracy: 0.9791 - val_loss: 1.1520 - val_accuracy: 0.7238\n",
            "Epoch 8/15\n",
            "252000/252000 [==============================] - 533s 2ms/sample - loss: 0.0462 - accuracy: 0.9815 - val_loss: 1.1750 - val_accuracy: 0.7210\n",
            "Epoch 9/15\n",
            "252000/252000 [==============================] - 533s 2ms/sample - loss: 0.0419 - accuracy: 0.9836 - val_loss: 1.3437 - val_accuracy: 0.7212\n",
            "Epoch 10/15\n",
            "252000/252000 [==============================] - 537s 2ms/sample - loss: 0.0390 - accuracy: 0.9847 - val_loss: 1.3225 - val_accuracy: 0.7178\n",
            "Epoch 11/15\n",
            "252000/252000 [==============================] - 540s 2ms/sample - loss: 0.0365 - accuracy: 0.9855 - val_loss: 1.5119 - val_accuracy: 0.7205\n",
            "Epoch 12/15\n",
            "252000/252000 [==============================] - 532s 2ms/sample - loss: 0.0341 - accuracy: 0.9861 - val_loss: 1.4752 - val_accuracy: 0.7263\n",
            "Epoch 13/15\n",
            "252000/252000 [==============================] - 533s 2ms/sample - loss: 0.0330 - accuracy: 0.9868 - val_loss: 1.1638 - val_accuracy: 0.7200\n",
            "Epoch 14/15\n",
            "252000/252000 [==============================] - 532s 2ms/sample - loss: 0.0322 - accuracy: 0.9874 - val_loss: 1.4258 - val_accuracy: 0.7200\n",
            "Epoch 15/15\n",
            "130048/252000 [==============>...............] - ETA: 4:16 - loss: 0.0292 - accuracy: 0.9884Buffered data was truncated after reaching the output size limit."
          ],
          "name": "stdout"
        }
      ]
    },
    {
      "cell_type": "markdown",
      "metadata": {
        "id": "Pn16mcZwXCE7",
        "colab_type": "text"
      },
      "source": [
        "# Section 5: Evaluate The Model"
      ]
    },
    {
      "cell_type": "markdown",
      "metadata": {
        "id": "dFsxQOiUXOTv",
        "colab_type": "text"
      },
      "source": [
        "### Evaluation - Cleaned Data"
      ]
    },
    {
      "cell_type": "code",
      "metadata": {
        "id": "loRvfzfjXF8U",
        "colab_type": "code",
        "outputId": "6a262543-9b93-47e8-c0c9-02fc31a4b3cb",
        "colab": {
          "base_uri": "https://localhost:8080/",
          "height": 51
        }
      },
      "source": [
        "results = dcnn.evaluate(test_inputs_cl, test_labels_cl, batch_size=batch_size)\n",
        "print(results)"
      ],
      "execution_count": 0,
      "outputs": [
        {
          "output_type": "stream",
          "text": [
            "120000/120000 [==============================] - 5s 42us/sample - loss: 1.6598 - accuracy: 0.7205\n",
            "[1.6597781845887503, 0.7205]\n"
          ],
          "name": "stdout"
        }
      ]
    },
    {
      "cell_type": "code",
      "metadata": {
        "id": "sKKcR0-ncilV",
        "colab_type": "code",
        "colab": {}
      },
      "source": [
        "y_pred_test = dcnn.predict(test_inputs_cl)"
      ],
      "execution_count": 0,
      "outputs": []
    },
    {
      "cell_type": "code",
      "metadata": {
        "id": "bsFtA5QcdAkX",
        "colab_type": "code",
        "outputId": "da81a177-aad9-47e6-b6ec-b503f77c9ac2",
        "colab": {
          "base_uri": "https://localhost:8080/",
          "height": 136
        }
      },
      "source": [
        "y_pred_test"
      ],
      "execution_count": 0,
      "outputs": [
        {
          "output_type": "execute_result",
          "data": {
            "text/plain": [
              "array([[9.9999022e-01],\n",
              "       [9.9756938e-01],\n",
              "       [8.0242693e-01],\n",
              "       ...,\n",
              "       [9.1149221e-04],\n",
              "       [5.5515188e-01],\n",
              "       [1.1601086e-01]], dtype=float32)"
            ]
          },
          "metadata": {
            "tags": []
          },
          "execution_count": 79
        }
      ]
    },
    {
      "cell_type": "code",
      "metadata": {
        "id": "kETrtoqFdC2_",
        "colab_type": "code",
        "colab": {}
      },
      "source": [
        "y_pred_test = (y_pred_test > 0.5)"
      ],
      "execution_count": 0,
      "outputs": []
    },
    {
      "cell_type": "code",
      "metadata": {
        "id": "x-zcUY8QdS3-",
        "colab_type": "code",
        "outputId": "984b509d-588a-40c2-b56a-19b4f24a0e13",
        "colab": {
          "base_uri": "https://localhost:8080/",
          "height": 136
        }
      },
      "source": [
        "y_pred_test"
      ],
      "execution_count": 0,
      "outputs": [
        {
          "output_type": "execute_result",
          "data": {
            "text/plain": [
              "array([[ True],\n",
              "       [ True],\n",
              "       [ True],\n",
              "       ...,\n",
              "       [False],\n",
              "       [ True],\n",
              "       [False]])"
            ]
          },
          "metadata": {
            "tags": []
          },
          "execution_count": 81
        }
      ]
    },
    {
      "cell_type": "code",
      "metadata": {
        "id": "S7I1ombldT3W",
        "colab_type": "code",
        "outputId": "c4a760ed-4c49-4616-e88f-91a176baec80",
        "colab": {
          "base_uri": "https://localhost:8080/",
          "height": 34
        }
      },
      "source": [
        "test_labels_cl"
      ],
      "execution_count": 0,
      "outputs": [
        {
          "output_type": "execute_result",
          "data": {
            "text/plain": [
              "array([1, 1, 0, ..., 1, 0, 0])"
            ]
          },
          "metadata": {
            "tags": []
          },
          "execution_count": 82
        }
      ]
    },
    {
      "cell_type": "markdown",
      "metadata": {
        "id": "G97yFC9PnehM",
        "colab_type": "text"
      },
      "source": [
        "Confusion Matrix for the Cleanead Data"
      ]
    },
    {
      "cell_type": "code",
      "metadata": {
        "id": "6UwkE2izdfRW",
        "colab_type": "code",
        "outputId": "20658f11-0ccb-406e-a4b6-cb6dd83dce66",
        "colab": {
          "base_uri": "https://localhost:8080/",
          "height": 51
        }
      },
      "source": [
        "from sklearn.metrics import confusion_matrix\n",
        "cm = confusion_matrix(test_labels_cl, y_pred_test)\n",
        "cm"
      ],
      "execution_count": 0,
      "outputs": [
        {
          "output_type": "execute_result",
          "data": {
            "text/plain": [
              "array([[46322, 13678],\n",
              "       [19862, 40138]])"
            ]
          },
          "metadata": {
            "tags": []
          },
          "execution_count": 84
        }
      ]
    },
    {
      "cell_type": "markdown",
      "metadata": {
        "id": "3TdWofvC1Cpr",
        "colab_type": "text"
      },
      "source": [
        "**In the confusion matrix above it is possible to see that:** \n",
        "*   46.322 was correctly classified for the Negative class and 13.678 wrong classifications;\n",
        "*   For the Positive class, it has a correct classification of 40.138 instances and 19.882 wrong.\n",
        "*   Total of 86.640 (72,05%) correct classifications for both classes, and 33.540 (27,95%) wrong classifications."
      ]
    },
    {
      "cell_type": "code",
      "metadata": {
        "id": "ffaPA48Ed582",
        "colab_type": "code",
        "outputId": "cabbd4e5-5d27-40d2-cd8e-5d5f8087242b",
        "colab": {
          "base_uri": "https://localhost:8080/",
          "height": 282
        }
      },
      "source": [
        "# Confusion Matrix\n",
        "sns.heatmap(cm, annot=True)"
      ],
      "execution_count": 0,
      "outputs": [
        {
          "output_type": "execute_result",
          "data": {
            "text/plain": [
              "<matplotlib.axes._subplots.AxesSubplot at 0x7f946c925828>"
            ]
          },
          "metadata": {
            "tags": []
          },
          "execution_count": 85
        },
        {
          "output_type": "display_data",
          "data": {
            "image/png": "[encoded data removed]",
            "text/plain": [
              "<Figure size 432x288 with 2 Axes>"
            ]
          },
          "metadata": {
            "tags": []
          }
        }
      ]
    },
    {
      "cell_type": "code",
      "metadata": {
        "id": "iLExdgRdfGO_",
        "colab_type": "code",
        "outputId": "fa3cb082-3c7a-4bc1-edbd-7886b12b9b5a",
        "colab": {
          "base_uri": "https://localhost:8080/",
          "height": 34
        }
      },
      "source": [
        "history.history.keys()"
      ],
      "execution_count": 0,
      "outputs": [
        {
          "output_type": "execute_result",
          "data": {
            "text/plain": [
              "dict_keys(['loss', 'accuracy', 'val_loss', 'val_accuracy'])"
            ]
          },
          "metadata": {
            "tags": []
          },
          "execution_count": 86
        }
      ]
    },
    {
      "cell_type": "code",
      "metadata": {
        "id": "4_qbRmHPeCit",
        "colab_type": "code",
        "outputId": "95d7f3c6-7ce0-4cc4-8932-1bc8f6ebd933",
        "colab": {
          "base_uri": "https://localhost:8080/",
          "height": 312
        }
      },
      "source": [
        "plt.plot(history.history['loss'])\n",
        "plt.plot(history.history['val_loss'])\n",
        "plt.title('Model loss progress during training and validation')\n",
        "plt.xlabel('Epoch')\n",
        "plt.ylabel('Losses')\n",
        "plt.legend(['Training Loss', 'Validation Loss'])"
      ],
      "execution_count": 0,
      "outputs": [
        {
          "output_type": "execute_result",
          "data": {
            "text/plain": [
              "<matplotlib.legend.Legend at 0x7f946ae65a58>"
            ]
          },
          "metadata": {
            "tags": []
          },
          "execution_count": 87
        },
        {
          "output_type": "display_data",
          "data": {
            "image/png": "[encoded data removed]",
            "text/plain": [
              "<Figure size 432x288 with 1 Axes>"
            ]
          },
          "metadata": {
            "tags": []
          }
        }
      ]
    },
    {
      "cell_type": "code",
      "metadata": {
        "id": "yWOh8dnBgIJ7",
        "colab_type": "code",
        "outputId": "97724d28-daef-4da4-c276-251d9a6ad538",
        "colab": {
          "base_uri": "https://localhost:8080/",
          "height": 312
        }
      },
      "source": [
        "plt.plot(history.history['accuracy'])\n",
        "plt.plot(history.history['val_accuracy'])\n",
        "plt.title('Model loss progress during training and validation')\n",
        "plt.xlabel('Epoch')\n",
        "plt.ylabel('Accuracy')\n",
        "plt.legend(['Training Accuracy', 'Validation Accuracy'])"
      ],
      "execution_count": 0,
      "outputs": [
        {
          "output_type": "execute_result",
          "data": {
            "text/plain": [
              "<matplotlib.legend.Legend at 0x7f946c45e3c8>"
            ]
          },
          "metadata": {
            "tags": []
          },
          "execution_count": 88
        },
        {
          "output_type": "display_data",
          "data": {
            "image/png": "[encoded data removed]",
            "text/plain": [
              "<Figure size 432x288 with 1 Axes>"
            ]
          },
          "metadata": {
            "tags": []
          }
        }
      ]
    },
    {
      "cell_type": "markdown",
      "metadata": {
        "id": "SeMaCwnZNDb5",
        "colab_type": "text"
      },
      "source": [
        "As seen in the plot above, the training accuracy has a high increase in the first four epochs, going from 0,7571 on the first epoch to 0.9684 on the fifth epoch. While the validation accuracy degraded over the epochs, having a noticed decrease in the first 3 epochs. From epoch three onwards until epoch 9 it had a small decrease. Between 9 and 11 there was a higher decrease but on the next epoch increased back and then decreased slowly again. \n",
        "It's normal the validation accuracy be smaller than training accuracy, otherwise, my model could be underfitting. However, the validation accuracy can not get too small, because it could mean overfitting. In this model, training and validation accuracy seems to be acceptable"
      ]
    },
    {
      "cell_type": "markdown",
      "metadata": {
        "id": "MDaenVvutyn_",
        "colab_type": "text"
      },
      "source": [
        "### Evaluation - Partially Cleaned Data"
      ]
    },
    {
      "cell_type": "code",
      "metadata": {
        "colab_type": "code",
        "id": "q0EaOM-Bt-pA",
        "outputId": "1b68c457-0999-40cd-c551-ac6d1fc4fc22",
        "colab": {
          "base_uri": "https://localhost:8080/",
          "height": 51
        }
      },
      "source": [
        "results2 = dcnn2.evaluate(test_inputs_pc, test_labels_pc, batch_size=batch_size)\n",
        "print(results)"
      ],
      "execution_count": 0,
      "outputs": [
        {
          "output_type": "stream",
          "text": [
            "120000/120000 [==============================] - 5s 43us/sample - loss: 1.7405 - accuracy: 0.7220\n",
            "[1.6597781845887503, 0.7205]\n"
          ],
          "name": "stdout"
        }
      ]
    },
    {
      "cell_type": "code",
      "metadata": {
        "id": "7RzAfaYQtx0W",
        "colab_type": "code",
        "colab": {}
      },
      "source": [
        "y_pred_test2 = dcnn.predict(test_inputs_pc)"
      ],
      "execution_count": 0,
      "outputs": []
    },
    {
      "cell_type": "code",
      "metadata": {
        "id": "efBM9ybGuO0a",
        "colab_type": "code",
        "outputId": "25c7e124-a608-4ed4-fe29-23e964954d3d",
        "colab": {
          "base_uri": "https://localhost:8080/",
          "height": 136
        }
      },
      "source": [
        "y_pred_test2"
      ],
      "execution_count": 0,
      "outputs": [
        {
          "output_type": "execute_result",
          "data": {
            "text/plain": [
              "array([[5.854679e-10],\n",
              "       [9.671047e-01],\n",
              "       [9.999144e-01],\n",
              "       ...,\n",
              "       [7.703902e-01],\n",
              "       [9.999958e-01],\n",
              "       [8.595380e-06]], dtype=float32)"
            ]
          },
          "metadata": {
            "tags": []
          },
          "execution_count": 91
        }
      ]
    },
    {
      "cell_type": "code",
      "metadata": {
        "id": "-ofmYTtwuOrl",
        "colab_type": "code",
        "colab": {}
      },
      "source": [
        "y_pred_test2 = (y_pred_test2 > 0.5)"
      ],
      "execution_count": 0,
      "outputs": []
    },
    {
      "cell_type": "code",
      "metadata": {
        "id": "PV2jPoMruOhF",
        "colab_type": "code",
        "outputId": "312a42ea-e715-43ff-e07b-0ee817042d3f",
        "colab": {
          "base_uri": "https://localhost:8080/",
          "height": 136
        }
      },
      "source": [
        "y_pred_test2"
      ],
      "execution_count": 0,
      "outputs": [
        {
          "output_type": "execute_result",
          "data": {
            "text/plain": [
              "array([[False],\n",
              "       [ True],\n",
              "       [ True],\n",
              "       ...,\n",
              "       [ True],\n",
              "       [ True],\n",
              "       [False]])"
            ]
          },
          "metadata": {
            "tags": []
          },
          "execution_count": 93
        }
      ]
    },
    {
      "cell_type": "code",
      "metadata": {
        "id": "brJK9l-duXlg",
        "colab_type": "code",
        "outputId": "51931ccd-9be9-4a3f-ecef-8cf57efa9b75",
        "colab": {
          "base_uri": "https://localhost:8080/",
          "height": 34
        }
      },
      "source": [
        "test_labels_pc"
      ],
      "execution_count": 0,
      "outputs": [
        {
          "output_type": "execute_result",
          "data": {
            "text/plain": [
              "array([0, 1, 0, ..., 0, 1, 0])"
            ]
          },
          "metadata": {
            "tags": []
          },
          "execution_count": 94
        }
      ]
    },
    {
      "cell_type": "markdown",
      "metadata": {
        "id": "r1J1zrXqoEv_",
        "colab_type": "text"
      },
      "source": [
        "Confusion Matrix for the Partially Cleaned Data"
      ]
    },
    {
      "cell_type": "code",
      "metadata": {
        "id": "fh03jmlzuXd_",
        "colab_type": "code",
        "outputId": "fe40bd28-3d97-4a1c-92df-863b5b4eeeef",
        "colab": {
          "base_uri": "https://localhost:8080/",
          "height": 51
        }
      },
      "source": [
        "cm2 = confusion_matrix(test_labels_pc, y_pred_test2)\n",
        "cm2"
      ],
      "execution_count": 0,
      "outputs": [
        {
          "output_type": "execute_result",
          "data": {
            "text/plain": [
              "array([[54399,  5601],\n",
              "       [ 7674, 52326]])"
            ]
          },
          "metadata": {
            "tags": []
          },
          "execution_count": 95
        }
      ]
    },
    {
      "cell_type": "markdown",
      "metadata": {
        "id": "fOtUzixR4FYI",
        "colab_type": "text"
      },
      "source": [
        "**In the confusion matrix above it is possible to see that:** \n",
        "*   54.399 was correctly classified for the Negative class and 5.601 wrong classifications;\n",
        "*   For the Positive class, it has a correct classification of 52.326 instances and 7.674 wrong.\n",
        "*   Total of 106.725 (88,94%) correct classifications for both classes, and 13.275 (11,06%) wrong classifications."
      ]
    },
    {
      "cell_type": "code",
      "metadata": {
        "id": "Bi2ywaApuXX3",
        "colab_type": "code",
        "outputId": "4ad6d1a3-c019-4fbb-9af5-6c646c537a30",
        "colab": {
          "base_uri": "https://localhost:8080/",
          "height": 282
        }
      },
      "source": [
        "# Confusion Matrix\n",
        "sns.heatmap(cm2, annot=True)"
      ],
      "execution_count": 0,
      "outputs": [
        {
          "output_type": "execute_result",
          "data": {
            "text/plain": [
              "<matplotlib.axes._subplots.AxesSubplot at 0x7f946b4fbf28>"
            ]
          },
          "metadata": {
            "tags": []
          },
          "execution_count": 96
        },
        {
          "output_type": "display_data",
          "data": {
            "image/png": "[encoded data removed]",
            "text/plain": [
              "<Figure size 432x288 with 2 Axes>"
            ]
          },
          "metadata": {
            "tags": []
          }
        }
      ]
    },
    {
      "cell_type": "markdown",
      "metadata": {
        "id": "ZPwr3g4Y5uFs",
        "colab_type": "text"
      },
      "source": [
        "The partially cleaned data, as seen in the confusion matrixes, performed better on the tests. This may be due to over-cleaning. Maybe punctuation makes easier for the model to classify the emotions."
      ]
    },
    {
      "cell_type": "code",
      "metadata": {
        "id": "XjunzbnEvET8",
        "colab_type": "code",
        "outputId": "a4775ea7-4186-4b1f-b906-7b992887d77f",
        "colab": {
          "base_uri": "https://localhost:8080/",
          "height": 34
        }
      },
      "source": [
        "history2.history.keys()"
      ],
      "execution_count": 0,
      "outputs": [
        {
          "output_type": "execute_result",
          "data": {
            "text/plain": [
              "dict_keys(['loss', 'accuracy', 'val_loss', 'val_accuracy'])"
            ]
          },
          "metadata": {
            "tags": []
          },
          "execution_count": 97
        }
      ]
    },
    {
      "cell_type": "markdown",
      "metadata": {
        "id": "d3KR2bOK3GYf",
        "colab_type": "text"
      },
      "source": [
        "### Graphs Evaluation Of Both Training"
      ]
    },
    {
      "cell_type": "code",
      "metadata": {
        "id": "kzG7VvXM-kEj",
        "colab_type": "code",
        "colab": {}
      },
      "source": [
        ""
      ],
      "execution_count": 0,
      "outputs": []
    },
    {
      "cell_type": "markdown",
      "metadata": {
        "id": "IzlDcJnRAfhM",
        "colab_type": "text"
      },
      "source": [
        "#### Plot of Cleaned Data accuracy and loss progress during the training and validation."
      ]
    },
    {
      "cell_type": "code",
      "metadata": {
        "id": "mbrwr1SfvDop",
        "colab_type": "code",
        "outputId": "c7b2a751-169c-46e3-b922-da8e7e03b370",
        "colab": {
          "base_uri": "https://localhost:8080/",
          "height": 404
        }
      },
      "source": [
        "#Cleaned Data\n",
        "plt.figure(figsize=(18,6))\n",
        "plt.subplot(1, 2, 1)\n",
        "plt.plot(history.history['accuracy'])\n",
        "plt.plot(history.history['val_accuracy'])\n",
        "plt.title('Model Accuracy Progress During Training And Validation Of The Cleaned Data')\n",
        "plt.xlabel('Epoch')\n",
        "plt.ylabel('Accuracy')\n",
        "plt.legend(['Training Accuracy', 'Validation Accuracy'])\n",
        "\n",
        "plt.subplot(1, 2, 2)\n",
        "plt.plot(history.history['loss'])\n",
        "plt.plot(history.history['val_loss'])\n",
        "plt.title('Model Loss Progress During Training And Validation Of The Cleaned Data')\n",
        "plt.xlabel('Epoch')\n",
        "plt.ylabel('Accuracy')\n",
        "plt.legend(['Training Loss', 'Validation Loss'])\n",
        "plt.show()"
      ],
      "execution_count": 0,
      "outputs": [
        {
          "output_type": "display_data",
          "data": {
            "image/png": "[encoded data removed]",
            "text/plain": [
              "<Figure size 1296x432 with 2 Axes>"
            ]
          },
          "metadata": {
            "tags": []
          }
        }
      ]
    },
    {
      "cell_type": "markdown",
      "metadata": {
        "id": "1UoJBeYKBZF9",
        "colab_type": "text"
      },
      "source": [
        "#### Plot of Partially Cleaned Data accuracy and loss progress during the training and validation."
      ]
    },
    {
      "cell_type": "code",
      "metadata": {
        "id": "6nG0yVKr-lC0",
        "colab_type": "code",
        "outputId": "b8d5cfd8-08ed-44dc-df50-556600bbbb26",
        "colab": {
          "base_uri": "https://localhost:8080/",
          "height": 404
        }
      },
      "source": [
        "#Partially Cleaned Data\n",
        "plt.figure(figsize=(18,6))\n",
        "plt.subplot(1, 2, 1)\n",
        "plt.plot(history2.history['accuracy'])\n",
        "plt.plot(history2.history['val_accuracy'])\n",
        "plt.title('Model Accuracy Progress During Training And Validation Of The Cleaned Data')\n",
        "plt.xlabel('Epoch')\n",
        "plt.ylabel('Accuracy')\n",
        "plt.legend(['Training Accuracy', 'Validation Accuracy'])\n",
        "\n",
        "plt.subplot(1, 2, 2)\n",
        "plt.plot(history2.history['loss'])\n",
        "plt.plot(history2.history['val_loss'])\n",
        "plt.title('Model Loss Progress During Training And Validation Of The Cleaned Data')\n",
        "plt.xlabel('Epoch')\n",
        "plt.ylabel('Loss')\n",
        "plt.legend(['Training Loss', 'Validation Loss'])\n",
        "plt.show()"
      ],
      "execution_count": 0,
      "outputs": [
        {
          "output_type": "display_data",
          "data": {
            "image/png": "[encoded data removed]",
            "text/plain": [
              "<Figure size 1296x432 with 2 Axes>"
            ]
          },
          "metadata": {
            "tags": []
          }
        }
      ]
    },
    {
      "cell_type": "markdown",
      "metadata": {
        "id": "L2OlTNU8So6w",
        "colab_type": "text"
      },
      "source": [
        "As seen in the plot above, the training accuracy of the partially cleaned data is similar to the totally cleaned data. It had a high increase in the first four epochs, going from 0,7582 on the first epoch to 0.9679 on the fifth epoch. It increased slowly until the last epoch, ending with 0.9874. \n",
        "The validation accuracy of the partially cleaned data on the contrary to the other model had a high decrease until the seventh epoch. Then the validation went up until epoch 11 and decreased slowly once more."
      ]
    },
    {
      "cell_type": "markdown",
      "metadata": {
        "id": "JIbee4HTBnaH",
        "colab_type": "text"
      },
      "source": [
        "#### Comparison between both models accuracy and loss"
      ]
    },
    {
      "cell_type": "code",
      "metadata": {
        "id": "WcsAFWxDvEMo",
        "colab_type": "code",
        "outputId": "5e33ea1f-4ee7-4791-fe8c-c26e09ad740e",
        "colab": {
          "base_uri": "https://localhost:8080/",
          "height": 404
        }
      },
      "source": [
        "plt.figure(figsize=(18,6))\n",
        "plt.subplot(1, 2, 1)\n",
        "plt.plot(history.history['loss'])\n",
        "plt.plot(history2.history['loss'])\n",
        "plt.title('Comparison Between Both Models Loss Progress')\n",
        "plt.xlabel('Epoch')\n",
        "plt.ylabel('Losses')\n",
        "plt.legend(['Cleaned Data Loss', 'Partially Cleaned Data Loss'])\n",
        "\n",
        "plt.subplot(1, 2, 2)\n",
        "plt.plot(history.history['accuracy'])\n",
        "plt.plot(history2.history['accuracy'])\n",
        "plt.title('Comparison Between Both Models Accuracy Progress')\n",
        "plt.xlabel('Epoch')\n",
        "plt.ylabel('Accuracy')\n",
        "plt.legend(['Cleaned Data Accuracy', 'Partially Cleaned Data Accuracy'])\n",
        "plt.show()"
      ],
      "execution_count": 0,
      "outputs": [
        {
          "output_type": "display_data",
          "data": {
            "image/png": "[encoded data removed]",
            "text/plain": [
              "<Figure size 1296x432 with 2 Axes>"
            ]
          },
          "metadata": {
            "tags": []
          }
        }
      ]
    },
    {
      "cell_type": "markdown",
      "metadata": {
        "id": "dOMh2t1hUjy5",
        "colab_type": "text"
      },
      "source": [
        "For both models, the training accuracy and the loss were pretty similar."
      ]
    },
    {
      "cell_type": "code",
      "metadata": {
        "id": "-UOOC_1-pfa5",
        "colab_type": "code",
        "outputId": "ec9a455b-da0d-4795-e083-5e7873772d45",
        "colab": {
          "base_uri": "https://localhost:8080/",
          "height": 404
        }
      },
      "source": [
        "plt.figure(figsize=(18,6))\n",
        "plt.subplot(1, 2, 1)\n",
        "plt.plot(history.history['val_loss'])\n",
        "plt.plot(history2.history['val_loss'])\n",
        "plt.title('Comparison Between Both Models  Validation Loss Progress')\n",
        "plt.xlabel('Epoch')\n",
        "plt.ylabel('Validation Loss')\n",
        "plt.legend(['Cleaned Data Validation Loss', 'Partially Cleaned Data Validation Loss'])\n",
        "\n",
        "plt.subplot(1, 2, 2)\n",
        "plt.plot(history.history['val_accuracy'])\n",
        "plt.plot(history2.history['val_accuracy'])\n",
        "plt.title('Comparison Between Both Models Validation Accuracy Progress')\n",
        "plt.xlabel('Epoch')\n",
        "plt.ylabel('Accuracy')\n",
        "plt.legend(['Cleaned Data Validation Accuracy', 'Partially Cleaned Data Validation Accuracy'])\n",
        "plt.show()"
      ],
      "execution_count": 0,
      "outputs": [
        {
          "output_type": "display_data",
          "data": {
            "image/png": "[encoded data removed]",
            "text/plain": [
              "<Figure size 1296x432 with 2 Axes>"
            ]
          },
          "metadata": {
            "tags": []
          }
        }
      ]
    },
    {
      "cell_type": "markdown",
      "metadata": {
        "id": "OmrvZu_yibeg",
        "colab_type": "text"
      },
      "source": [
        "### Predictions"
      ]
    },
    {
      "cell_type": "markdown",
      "metadata": {
        "id": "Pyu2Z8UPChiR",
        "colab_type": "text"
      },
      "source": [
        "#### Predictions on the Data Clean Model"
      ]
    },
    {
      "cell_type": "code",
      "metadata": {
        "id": "EEsZh-uuidyr",
        "colab_type": "code",
        "outputId": "d5fe3065-8240-4203-fc88-1bedae5210f1",
        "colab": {
          "base_uri": "https://localhost:8080/",
          "height": 34
        }
      },
      "source": [
        "positive_text = 'you are so funny'\n",
        "positive_text = tokenizer_data_clean.encode(positive_text)\n",
        "positive_text"
      ],
      "execution_count": 0,
      "outputs": [
        {
          "output_type": "execute_result",
          "data": {
            "text/plain": [
              "[4005, 13267, 5385, 706]"
            ]
          },
          "metadata": {
            "tags": []
          },
          "execution_count": 101
        }
      ]
    },
    {
      "cell_type": "code",
      "metadata": {
        "id": "9vSSoQIFiwYq",
        "colab_type": "code",
        "outputId": "36d28aa5-5711-4d62-a100-de9e741d8eed",
        "colab": {
          "base_uri": "https://localhost:8080/",
          "height": 34
        }
      },
      "source": [
        "dcnn(np.array([positive_text]), training=False).numpy()"
      ],
      "execution_count": 0,
      "outputs": [
        {
          "output_type": "execute_result",
          "data": {
            "text/plain": [
              "array([[0.9829495]], dtype=float32)"
            ]
          },
          "metadata": {
            "tags": []
          },
          "execution_count": 102
        }
      ]
    },
    {
      "cell_type": "code",
      "metadata": {
        "id": "MpgdD6vUjKmf",
        "colab_type": "code",
        "outputId": "932f4668-b4cb-4c96-e2fd-4aad1df4f7e1",
        "colab": {
          "base_uri": "https://localhost:8080/",
          "height": 34
        }
      },
      "source": [
        "negative_text = 'i hate you'\n",
        "negative_text = tokenizer_data_clean.encode(negative_text)\n",
        "negative_text"
      ],
      "execution_count": 0,
      "outputs": [
        {
          "output_type": "execute_result",
          "data": {
            "text/plain": [
              "[299, 64, 3425]"
            ]
          },
          "metadata": {
            "tags": []
          },
          "execution_count": 103
        }
      ]
    },
    {
      "cell_type": "code",
      "metadata": {
        "id": "Npah3fHPj7gA",
        "colab_type": "code",
        "outputId": "877f7ed7-cef7-4340-c8dd-bbaac0f91a08",
        "colab": {
          "base_uri": "https://localhost:8080/",
          "height": 34
        }
      },
      "source": [
        "dcnn(np.array([negative_text]), training=False).numpy()"
      ],
      "execution_count": 0,
      "outputs": [
        {
          "output_type": "execute_result",
          "data": {
            "text/plain": [
              "array([[0.00059492]], dtype=float32)"
            ]
          },
          "metadata": {
            "tags": []
          },
          "execution_count": 104
        }
      ]
    },
    {
      "cell_type": "markdown",
      "metadata": {
        "id": "oEwuj3zMCqK7",
        "colab_type": "text"
      },
      "source": [
        "#### Predictions on the Data Partially Cleaned Model"
      ]
    },
    {
      "cell_type": "code",
      "metadata": {
        "id": "uiFdNkdVB3c-",
        "colab_type": "code",
        "outputId": "faf44c52-055e-44cb-a7f6-14b648c36735",
        "colab": {
          "base_uri": "https://localhost:8080/",
          "height": 34
        }
      },
      "source": [
        "positive_text2 = 'you are so funny'\n",
        "positive_text2 = tokenizer_dataPartially_clean.encode(positive_text2)\n",
        "positive_text2"
      ],
      "execution_count": 0,
      "outputs": [
        {
          "output_type": "execute_result",
          "data": {
            "text/plain": [
              "[4005, 13267, 5385, 706]"
            ]
          },
          "metadata": {
            "tags": []
          },
          "execution_count": 106
        }
      ]
    },
    {
      "cell_type": "code",
      "metadata": {
        "id": "3v8_2QZBCInn",
        "colab_type": "code",
        "outputId": "5f3ad266-740b-4f9a-df48-9a3faae3706f",
        "colab": {
          "base_uri": "https://localhost:8080/",
          "height": 34
        }
      },
      "source": [
        "dcnn2(np.array([positive_text2]), training=False).numpy()"
      ],
      "execution_count": 0,
      "outputs": [
        {
          "output_type": "execute_result",
          "data": {
            "text/plain": [
              "array([[0.99990845]], dtype=float32)"
            ]
          },
          "metadata": {
            "tags": []
          },
          "execution_count": 107
        }
      ]
    },
    {
      "cell_type": "code",
      "metadata": {
        "id": "Rtbfxz7jCIRG",
        "colab_type": "code",
        "outputId": "06bdb3d7-1c2e-4c9b-e1a2-6ad8b718b2b5",
        "colab": {
          "base_uri": "https://localhost:8080/",
          "height": 34
        }
      },
      "source": [
        "negative_text2 = 'i hate you'\n",
        "negative_text2 = tokenizer_dataPartially_clean.encode(negative_text2)\n",
        "negative_text2"
      ],
      "execution_count": 0,
      "outputs": [
        {
          "output_type": "execute_result",
          "data": {
            "text/plain": [
              "[299, 64, 3425]"
            ]
          },
          "metadata": {
            "tags": []
          },
          "execution_count": 109
        }
      ]
    },
    {
      "cell_type": "code",
      "metadata": {
        "id": "uF-_4wzFCIGx",
        "colab_type": "code",
        "outputId": "3225647d-ae6a-453e-e8b0-a55d877e99f7",
        "colab": {
          "base_uri": "https://localhost:8080/",
          "height": 34
        }
      },
      "source": [
        "dcnn2(np.array([negative_text2]), training=False).numpy()"
      ],
      "execution_count": 0,
      "outputs": [
        {
          "output_type": "execute_result",
          "data": {
            "text/plain": [
              "array([[1.0466613e-06]], dtype=float32)"
            ]
          },
          "metadata": {
            "tags": []
          },
          "execution_count": 110
        }
      ]
    }
  ]
}